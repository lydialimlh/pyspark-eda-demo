{
 "cells": [
  {
   "cell_type": "code",
   "execution_count": 6,
   "metadata": {},
   "outputs": [],
   "source": [
    "# validate env setup\n",
    "import os\n",
    "from pyspark.sql import SparkSession\n",
    "\n",
    "# ensure that these variables are set in your env, either manually or through your shell config file or venv activation script\n",
    "os.environ[\"JAVA_HOME\"] = \"/opt/homebrew/opt/openjdk@17/libexec/openjdk.jdk/Contents/Home\"\n",
    "os.environ[\"SPARK_HOME\"] = \"/Users/lydialim/pyspark-eda-demo/.venv/lib/python3.10/site-packages/pyspark\"\n",
    "\n",
    "# initialize spark session\n",
    "spark = SparkSession.builder.getOrCreate()\n",
    "\n",
    "# additional spark session configurations\n",
    "spark.conf.set(\"spark.sql.session.timeZone\", \"Asia/Singapore\")  # UTC+8\n",
    "spark.sparkContext.setLogLevel(\"ERROR\")  # Options: ALL, DEBUG, ERROR, FATAL, INFO, OFF, TRACE, WARN\n",
    "spark.conf.set(\"spark.sql.adaptive.coalescePartitions.enabled\", \"true\")\n"
   ]
  },
  {
   "cell_type": "code",
   "execution_count": 7,
   "metadata": {},
   "outputs": [],
   "source": [
    "# import libs\n",
    "from pyspark.sql.functions import (\n",
    "    aes_encrypt,\n",
    "    base64,\n",
    "    col,\n",
    "    length,\n",
    "    lit,\n",
    "    when,\n",
    "    from_unixtime,\n",
    "    from_utc_timestamp,\n",
    "    to_timestamp,\n",
    "    date_format,\n",
    "    regexp_replace,\n",
    "    split,\n",
    "    expr,\n",
    "    element_at,\n",
    "    year\n",
    ")\n",
    "from pyspark.sql import DataFrame\n",
    "from sparkdq.checks import NullCheckConfig, TimestampBetweenCheckConfig\n",
    "from sparkdq.engine import BatchDQEngine\n",
    "from sparkdq.management import CheckSet\n",
    "from sparkdq.core import Severity\n"
   ]
  },
  {
   "cell_type": "code",
   "execution_count": 8,
   "metadata": {},
   "outputs": [
    {
     "name": "stdout",
     "output_type": "stream",
     "text": [
      "root\n",
      " |-- trans_date_trans_time: string (nullable = true)\n",
      " |-- cc_num: string (nullable = true)\n",
      " |-- merchant: string (nullable = true)\n",
      " |-- category: string (nullable = true)\n",
      " |-- amt: string (nullable = true)\n",
      " |-- person_name: string (nullable = true)\n",
      " |-- gender: string (nullable = true)\n",
      " |-- street: string (nullable = true)\n",
      " |-- city: string (nullable = true)\n",
      " |-- state: string (nullable = true)\n",
      " |-- zip: string (nullable = true)\n",
      " |-- lat: double (nullable = true)\n",
      " |-- long: double (nullable = true)\n",
      " |-- city_pop: integer (nullable = true)\n",
      " |-- job: string (nullable = true)\n",
      " |-- dob: date (nullable = true)\n",
      " |-- trans_num: string (nullable = true)\n",
      " |-- merch_lat: string (nullable = true)\n",
      " |-- merch_long: string (nullable = true)\n",
      " |-- is_fraud: string (nullable = true)\n",
      " |-- merch_zipcode: string (nullable = true)\n",
      " |-- merch_last_update_time: string (nullable = true)\n",
      " |-- merch_eff_time: string (nullable = true)\n",
      " |-- cc_bic: string (nullable = true)\n",
      "\n",
      "+---------------------+----------------+--------------------+-------------+------+--------------------+------+--------------------+--------------+-----+-----+-------+---------+--------+--------------------+----------+--------------------+------------------+-----------+--------+-------------+----------------------+----------------+-----------+\n",
      "|trans_date_trans_time|          cc_num|            merchant|     category|   amt|         person_name|gender|              street|          city|state|  zip|    lat|     long|city_pop|                 job|       dob|           trans_num|         merch_lat| merch_long|is_fraud|merch_zipcode|merch_last_update_time|  merch_eff_time|     cc_bic|\n",
      "+---------------------+----------------+--------------------+-------------+------+--------------------+------+--------------------+--------------+-----+-----+-------+---------+--------+--------------------+----------+--------------------+------------------+-----------+--------+-------------+----------------------+----------------+-----------+\n",
      "|  2019-01-01 00:00:18|2703186189652095|fraud_Rippin, Kub...|     misc_net|  4.97|Jennifer,Banks,eeeee|     F|      561 Perry Cove|Moravian Falls|   NC|28654|36.0788| -81.1781|    3495|Psychologist, cou...|1988-03-09|0b242abb623afc578...|         36.011293| -82.048315|       0|        28705|         1325376018666|1325376018798532|CITIUS33CHI|\n",
      "|  2019-01-01 00:00:44|    630423337322|fraud_Heller, Gut...|  grocery_pos|107.23|Stephanie,Gill,eeeee|     F|43039 Riley Green...|        Orient|   WA|99160|48.8878|-118.2105|     149|Special education...|1978-06-21|1f76529f857473494...|49.159046999999994|-118.186462|       0|         NULL|          132537604479|1325376044867960|   ADMDUS41|\n",
      "|  2019-01-01 00:00:51|  38859492057661|fraud_Lind-Buckridge|entertainment|220.11|      Edward@Sanchez|     M|594 White Dale Su...|    Malad City|   ID|83252|42.1808| -112.262|    4154|Nature conservati...|1962-01-19|a1a22d70485983eac...|         43.150704|-112.154481|       0|        83236|         1325376051286|1325376051506840|       Null|\n",
      "|  2019-01-01 00:01:16|3534093764340240|fraud_Kutch, Herm...|gas_transport|  45.0|     Jeremy/White, !|     M|9443 Cynthia Cour...|       Boulder|   MT|59632|46.2306|-112.1138|    1939|     Patent attorney|1967-01-12|6b849c168bdad6f86...|         47.034331|-112.561071|       0|         NULL|         1325376076365|1325376076794698|DEUTUS33TRF|\n",
      "|  2019-01-01 00:03:06| 375534208663984| fraud_Keeling-Crist|     misc_pos| 41.96|        Tyler@Garcia|     M|    408 Bradley Rest|      Doe Hill|   VA|24433|38.4207| -79.4629|      99|Dance movement ps...|1986-03-28|a41d7549acf907893...|         38.674999| -78.632459|       0|        22844|          132537618681|1325376186746376|   APBCUS61|\n",
      "+---------------------+----------------+--------------------+-------------+------+--------------------+------+--------------------+--------------+-----+-----+-------+---------+--------+--------------------+----------+--------------------+------------------+-----------+--------+-------------+----------------------+----------------+-----------+\n",
      "only showing top 5 rows\n",
      "\n"
     ]
    }
   ],
   "source": [
    "df = spark.read.parquet(\"data_fixtures/cc_sample_transaction.parquet\")\n",
    "df.printSchema()\n",
    "df.show(5)"
   ]
  },
  {
   "cell_type": "code",
   "execution_count": 9,
   "metadata": {},
   "outputs": [],
   "source": [
    "# define some functions that will help us clean the data\n",
    "def to_utc8_hm(c):\n",
    "    \"\"\"\n",
    "    Accepts Column c whose values may be:\n",
    "      • purely numeric, ≥15 digits → µs since epoch\n",
    "      • purely numeric, 12–14 digits → ms since epoch\n",
    "      • anything else → literal 'yyyy-MM-dd HH:mm:ss'\n",
    "    Returns a Column of timestamps in UTC+8\n",
    "    \"\"\"\n",
    "    c_str = c.cast(\"string\")\n",
    "    is_digits = c_str.rlike(\"^[0-9]+$\")\n",
    "\n",
    "    # 1) parse into a UTC Timestamp\n",
    "    ts_utc = (\n",
    "        when(\n",
    "            is_digits & (length(c_str) >= 15), from_unixtime(c_str.cast(\"double\") / 1e6)\n",
    "        )  # µs → seconds\n",
    "        .when(\n",
    "            is_digits & (length(c_str).between(12, 14)),\n",
    "            from_unixtime(c_str.cast(\"double\") / 1e3),\n",
    "        )  # ms → seconds\n",
    "        .otherwise(to_timestamp(c_str, \"yyyy-MM-dd HH:mm:ss\"))  # literal parse\n",
    "    )\n",
    "\n",
    "    # 2) shift to UTC+8\n",
    "    ts_utc8 = from_utc_timestamp(ts_utc, \"GMT+8\")\n",
    "\n",
    "    return ts_utc8\n",
    "\n",
    "def format_timestamp(ts_col):\n",
    "    \"\"\"\n",
    "    Accepts a timestamp string and returns a formatted timestamp string.\n",
    "    Output format: 'yyyy-MM-dd HH:mm:ss.SSSSSS +08:00'\n",
    "    \"\"\"\n",
    "    return date_format(ts_col, \"yyyy-MM-dd HH:mm:ss.SSSSSS +08:00\")\n",
    "\n",
    "def clean_and_split_names(\n",
    "    df: DataFrame,\n",
    "    input_col: str = \"person_name\",\n",
    "    first_col: str = \"first\",\n",
    "    last_col: str = \"last\",\n",
    ") -> DataFrame:\n",
    "    \"\"\"\n",
    "    Given a DataFrame with `input_col` containing raw names,\n",
    "    returns a new DataFrame with `first_col` and `last_col`.\n",
    "\n",
    "    Assumptions:\n",
    "    - Names are separated by a space\n",
    "    - Names are always two words\n",
    "    - Names are always in the format \"First Last\"\n",
    "    - Names are always alphabetic\n",
    "    - Names are never empty\n",
    "    \"\"\"\n",
    "    return (\n",
    "        df\n",
    "        # 1) Turn anything that isn't A–Z/a–z into a space\n",
    "        .withColumn(\"_cleaned\", regexp_replace(col(input_col), \"[^A-Za-z]\", \" \"))\n",
    "        # 2) Split into tokens on spaces\n",
    "        .withColumn(\"_tokens\", split(col(\"_cleaned\"), \" \"))\n",
    "        # 3) Drop empty tokens\n",
    "        .withColumn(\"_tokens\", expr(\"filter(_tokens, x -> x <> '')\"))\n",
    "        # 4) Extract first & second tokens\n",
    "        .withColumn(first_col, element_at(col(\"_tokens\"), 1)).withColumn(\n",
    "            last_col, element_at(col(\"_tokens\"), 2)\n",
    "        )\n",
    "        # 5) Drop the helpers\n",
    "        .drop(\"_cleaned\", \"_tokens\")\n",
    "    )"
   ]
  },
  {
   "cell_type": "markdown",
   "metadata": {},
   "source": [
    "First, we deal with the timestamp columns by standardizing the format."
   ]
  },
  {
   "cell_type": "code",
   "execution_count": 10,
   "metadata": {},
   "outputs": [
    {
     "name": "stdout",
     "output_type": "stream",
     "text": [
      "+---------------------+----------------+----------------------------------+-------------+------+--------------------+------+----------------------------+--------------+-----+-----+-------+---------+--------+---------------------------------+----------+--------------------------------+------------------+-----------+--------+-------------+----------------------+-------------------+-----------+\n",
      "|trans_date_trans_time|cc_num          |merchant                          |category     |amt   |person_name         |gender|street                      |city          |state|zip  |lat    |long     |city_pop|job                              |dob       |trans_num                       |merch_lat         |merch_long |is_fraud|merch_zipcode|merch_last_update_time|merch_eff_time     |cc_bic     |\n",
      "+---------------------+----------------+----------------------------------+-------------+------+--------------------+------+----------------------------+--------------+-----+-----+-------+---------+--------+---------------------------------+----------+--------------------------------+------------------+-----------+--------+-------------+----------------------+-------------------+-----------+\n",
      "|2019-01-01 08:00:18  |2703186189652095|fraud_Rippin, Kub and Mann        |misc_net     |4.97  |Jennifer,Banks,eeeee|F     |561 Perry Cove              |Moravian Falls|NC   |28654|36.0788|-81.1781 |3495    |Psychologist, counselling        |1988-03-09|0b242abb623afc578575680df30655b9|36.011293         |-82.048315 |0       |28705        |2012-01-01 16:00:18   |2012-01-01 16:00:18|CITIUS33CHI|\n",
      "|2019-01-01 08:00:44  |630423337322    |fraud_Heller, Gutmann and Zieme   |grocery_pos  |107.23|Stephanie,Gill,eeeee|F     |43039 Riley Greens Suite 393|Orient        |WA   |99160|48.8878|-118.2105|149     |Special educational needs teacher|1978-06-21|1f76529f8574734946361c461b024d99|49.159046999999994|-118.186462|0       |NULL         |1974-03-15 15:30:04   |2012-01-01 16:00:44|ADMDUS41   |\n",
      "|2019-01-01 08:00:51  |38859492057661  |fraud_Lind-Buckridge              |entertainment|220.11|Edward@Sanchez      |M     |594 White Dale Suite 530    |Malad City    |ID   |83252|42.1808|-112.262 |4154    |Nature conservation officer      |1962-01-19|a1a22d70485983eac12b5b88dad1cf95|43.150704         |-112.154481|0       |83236        |2012-01-01 16:00:51   |2012-01-01 16:00:51|Null       |\n",
      "|2019-01-01 08:01:16  |3534093764340240|fraud_Kutch, Hermiston and Farrell|gas_transport|45.0  |Jeremy/White, !     |M     |9443 Cynthia Court Apt. 038 |Boulder       |MT   |59632|46.2306|-112.1138|1939    |Patent attorney                  |1967-01-12|6b849c168bdad6f867558c3793159a81|47.034331         |-112.561071|0       |NULL         |2012-01-01 16:01:16   |2012-01-01 16:01:16|DEUTUS33TRF|\n",
      "|2019-01-01 08:03:06  |375534208663984 |fraud_Keeling-Crist               |misc_pos     |41.96 |Tyler@Garcia        |M     |408 Bradley Rest            |Doe Hill      |VA   |24433|38.4207|-79.4629 |99      |Dance movement psychotherapist   |1986-03-28|a41d7549acf90789359a9aa5346dcb46|38.674999         |-78.632459 |0       |22844        |1974-03-15 15:30:18   |2012-01-01 16:03:06|APBCUS61   |\n",
      "+---------------------+----------------+----------------------------------+-------------+------+--------------------+------+----------------------------+--------------+-----+-----+-------+---------+--------+---------------------------------+----------+--------------------------------+------------------+-----------+--------+-------------+----------------------+-------------------+-----------+\n",
      "only showing top 5 rows\n",
      "\n"
     ]
    }
   ],
   "source": [
    "timestamp_cols = [\"merch_eff_time\", \"merch_last_update_time\", \"trans_date_trans_time\"]\n",
    "\n",
    "# overwrites the existing timestamp columns inplace\n",
    "for ts in timestamp_cols:\n",
    "    df = df.withColumn(ts, to_utc8_hm(col(ts)))\n",
    "\n",
    "df.show(5, truncate=False)"
   ]
  },
  {
   "cell_type": "markdown",
   "metadata": {},
   "source": [
    "# Identifying Dirty Data\n",
    "- Everything starts from common sense and business logic. \n",
    "- Discoverability and documentation is also important. Without anyone actually using the data for anything, it's usually hard to detect systemic issues with the data.\n",
    "\n",
    "Data Validation\n",
    "- Catch dirty data in the records. In reality you wouldn't actually remove those records, but add more ways to handle them as you get alerted to their existence from schema/rule violations. \n",
    "- A downside of quietly handling things is that over time this might build up unneeded complexity in the pipelines. It shouldn't all fall on engineering to solve, though. I am a proponent of letting things burn once in awhile if that's what it takes to bring positive changes. \n",
    "\n",
    "- For python, schema validation through Pydantic is a good start. If using databricks, can consider this new framework: https://databrickslabs.github.io/dqx/docs/motivation/\n",
    "- For this assignment I had the opportunity to try a very new library called `sparkdq`. It works like Great Expectations, but for Spark.\n",
    "\n",
    "Data Observability\n",
    "- Catch unusual trends. Records that conform to the validation rules might not mean that all is well - what if the null values in a nullable column are suddenly greater % than usual? For paid solutions with a nice UI, tools like Monte Carlo and Data Dog can help.\n",
    "- Data engineering can champion the use of data observability tools to catch unusual trends, and empower domain teams to take ownership of their data.\n",
    "\n",
    "Integration Patterns\n",
    "We can either:\n",
    "1. fail-fast (throw error and fail the entire pipeline) or \n",
    "2. quarantine the records (log the error / dirty data for later analysis, while the rest of the pipeline continues).\n",
    "\n",
    "In this case, we will quarantine the records. (I am making the assumption that the pipeline is run in a batch fashion, and the dirty data is not critical to the pipeline or the downstream processes.)\n"
   ]
  },
  {
   "cell_type": "code",
   "execution_count": 11,
   "metadata": {},
   "outputs": [
    {
     "name": "stderr",
     "output_type": "stream",
     "text": [
      "                                                                                \r"
     ]
    },
    {
     "name": "stdout",
     "output_type": "stream",
     "text": [
      "Validation Summary (2025-05-27 13:00:04)\n",
      "Total records:   1,296,675\n",
      "Passed records:  1,051,939\n",
      "Failed records:  244,736\n",
      "Warnings:        0\n",
      "Pass rate:       81.00%\n"
     ]
    },
    {
     "name": "stderr",
     "output_type": "stream",
     "text": [
      "                                                                                \r"
     ]
    }
   ],
   "source": [
    "check_set = CheckSet()\n",
    "null_check = NullCheckConfig(check_id=\"my-null-check\", columns=[\"cc_num\", 'trans_date_trans_time', 'trans_num'])\n",
    "# example of timestamp check\n",
    "timestamp_check = TimestampBetweenCheckConfig(\n",
    "    check_id=\"allowed_record_date_range\",\n",
    "    columns=[\"trans_date_trans_time\", \"merch_eff_time\", \"merch_last_update_time\"],\n",
    "    min_value=\"2000-01-01 00:00:00\",\n",
    "    max_value=\"2025-12-31 23:59:59\",\n",
    "    inclusive=(True, True),\n",
    "    severity=Severity.CRITICAL\n",
    ")\n",
    "\n",
    "check_set.add_check(null_check)\n",
    "check_set.add_check(timestamp_check)\n",
    "\n",
    "result = BatchDQEngine(check_set).run_batch(df)\n",
    "print(result.summary())\n",
    "\n",
    "# save the failed records to a quarantine folder for later analysis\n",
    "result.fail_df().write.format(\"json\").save(\"quarantine\", mode=\"overwrite\")\n"
   ]
  },
  {
   "cell_type": "code",
   "execution_count": 12,
   "metadata": {},
   "outputs": [
    {
     "name": "stdout",
     "output_type": "stream",
     "text": [
      "Remaining records after removing failed records:\n"
     ]
    },
    {
     "name": "stderr",
     "output_type": "stream",
     "text": [
      "                                                                                \r"
     ]
    },
    {
     "data": {
      "text/plain": [
       "1063595"
      ]
     },
     "execution_count": 12,
     "metadata": {},
     "output_type": "execute_result"
    }
   ],
   "source": [
    "# remove the failed records from the original dataframe\n",
    "fail_df_subset = result.fail_df().select(*result.fail_df().columns[:-3])\n",
    "df = df.subtract(fail_df_subset)\n",
    "print(\"Remaining records after removing failed records:\")\n",
    "df.count()\n"
   ]
  },
  {
   "cell_type": "code",
   "execution_count": 13,
   "metadata": {},
   "outputs": [
    {
     "name": "stderr",
     "output_type": "stream",
     "text": [
      "[Stage 34:====================================>                    (7 + 4) / 11]\r"
     ]
    },
    {
     "name": "stdout",
     "output_type": "stream",
     "text": [
      "+---------------------------------+----------------+-------------------------------------+------------+------+-------------------------+------+-------------------------------+----------------+-----+-----+-------+--------+--------+----------------------------------+----------+--------------------------------+---------+------------------+--------+-------------+---------------------------------+---------------------------------+-----------+\n",
      "|trans_date_trans_time            |cc_num          |merchant                             |category    |amt   |person_name              |gender|street                         |city            |state|zip  |lat    |long    |city_pop|job                               |dob       |trans_num                       |merch_lat|merch_long        |is_fraud|merch_zipcode|merch_last_update_time           |merch_eff_time                   |cc_bic     |\n",
      "+---------------------------------+----------------+-------------------------------------+------------+------+-------------------------+------+-------------------------------+----------------+-----+-----+-------+--------+--------+----------------------------------+----------+--------------------------------+---------+------------------+--------+-------------+---------------------------------+---------------------------------+-----------+\n",
      "|2019-01-01 17:36:41.000000 +08:00|370877495212014 |fraud_Rippin, Kub and Mann           |misc_net    |126.43|Sarah, Clark             |F     |25961 Beverly Union Apt. 042   |North Wilkesboro|NC   |28659|36.2017|-81.1286|21134   |Dispensing optician               |1984-03-06|64b5c04fdc3ba28e73cfddeb63877ef3|36.720747|-81.178168        |0       |24326        |2012-01-02 01:36:41.000000 +08:00|2012-01-02 01:36:41.000000 +08:00|ADMDUS41   |\n",
      "|2019-01-01 18:00:09.000000 +08:00|340951438290556 |fraud_Wiza LLC                       |misc_pos    |131.16|Maria, Garcia            |F     |865 Thomas Village             |Orangeburg      |NY   |10962|41.0442|-73.9609|5950    |Records manager                   |1971-07-02|65c3c16a9dc924aaa395b00ca2f2ea68|40.728845|-74.68005600000001|0       |07934        |2012-01-02 02:00:09.000000 +08:00|2012-01-02 02:00:09.000000 +08:00|NA         |\n",
      "|2019-01-01 22:34:11.000000 +08:00|6595970453799027|fraud_Hagenes, Kohler and Hoppe      |food_dining |31.19 |Gina,Gomez,eeeee         |F     |72030 Shelton Crossing Apt. 742|Stirling        |NJ   |7980 |40.6774|-74.4968|2307    |Science writer                    |1969-09-11|435abb30825fb92190805a3e31a19462|41.398262|-73.768721        |0       |10541        |2012-01-02 06:34:11.000000 +08:00|2012-01-02 06:34:11.000000 +08:00|APBCUS61   |\n",
      "|2019-01-08 04:43:39.000000 +08:00|577588686219    |fraud_Gottlieb, Considine and Schultz|shopping_net|148.43|James, , Strickland NOOOO|M     |25454 Leonard Lake             |Spring Church   |PA   |15686|40.6153|-79.4545|972     |Public relations account executive|1997-10-23|1068fe113b1c8f6fcd5597dff3d992e5|41.548501|-78.97296         |0       |16728        |2012-01-08 12:43:39.000000 +08:00|2012-01-08 12:43:39.000000 +08:00|CITIUS33CHI|\n",
      "|2019-01-09 06:08:33.000000 +08:00|3566875419572867|fraud_Breitenberg-Hermiston          |kids_pets   |50.63 |Adam|Mcdonald!!!         |M     |997 Cameron Meadow Apt. 980    |South Hero      |VT   |5486 |44.64  |-73.3113|1654    |Transport planner                 |1991-01-31|8c079459109d9d3e046597dfdab5dcd2|43.788225|-73.188212        |0       |05733        |2012-01-09 14:08:33.000000 +08:00|2012-01-09 14:08:33.000000 +08:00|Null       |\n",
      "+---------------------------------+----------------+-------------------------------------+------------+------+-------------------------+------+-------------------------------+----------------+-----+-----+-------+--------+--------+----------------------------------+----------+--------------------------------+---------+------------------+--------+-------------+---------------------------------+---------------------------------+-----------+\n",
      "only showing top 5 rows\n",
      "\n"
     ]
    },
    {
     "name": "stderr",
     "output_type": "stream",
     "text": [
      "                                                                                \r"
     ]
    }
   ],
   "source": [
    "# format the timestamp columns\n",
    "\n",
    "for ts in timestamp_cols:\n",
    "    df = df.withColumn(ts, format_timestamp(col(ts)))\n",
    "\n",
    "df.show(5, truncate=False)\n"
   ]
  },
  {
   "cell_type": "markdown",
   "metadata": {},
   "source": [
    "Then, we split the person_name columns into first and last name."
   ]
  },
  {
   "cell_type": "code",
   "execution_count": 14,
   "metadata": {},
   "outputs": [
    {
     "name": "stderr",
     "output_type": "stream",
     "text": [
      "[Stage 43:=========================================>               (8 + 3) / 11]\r"
     ]
    },
    {
     "name": "stdout",
     "output_type": "stream",
     "text": [
      "+---------------------------------+----------------+-------------------------------------+------------+------+------+-------------------------------+----------------+-----+-----+-------+--------+--------+----------------------------------+----------+--------------------------------+---------+------------------+--------+-------------+---------------------------------+---------------------------------+-----------+-----+----------+\n",
      "|trans_date_trans_time            |cc_num          |merchant                             |category    |amt   |gender|street                         |city            |state|zip  |lat    |long    |city_pop|job                               |dob       |trans_num                       |merch_lat|merch_long        |is_fraud|merch_zipcode|merch_last_update_time           |merch_eff_time                   |cc_bic     |first|last      |\n",
      "+---------------------------------+----------------+-------------------------------------+------------+------+------+-------------------------------+----------------+-----+-----+-------+--------+--------+----------------------------------+----------+--------------------------------+---------+------------------+--------+-------------+---------------------------------+---------------------------------+-----------+-----+----------+\n",
      "|2019-01-01 17:36:41.000000 +08:00|370877495212014 |fraud_Rippin, Kub and Mann           |misc_net    |126.43|F     |25961 Beverly Union Apt. 042   |North Wilkesboro|NC   |28659|36.2017|-81.1286|21134   |Dispensing optician               |1984-03-06|64b5c04fdc3ba28e73cfddeb63877ef3|36.720747|-81.178168        |0       |24326        |2012-01-02 01:36:41.000000 +08:00|2012-01-02 01:36:41.000000 +08:00|ADMDUS41   |Sarah|Clark     |\n",
      "|2019-01-01 18:00:09.000000 +08:00|340951438290556 |fraud_Wiza LLC                       |misc_pos    |131.16|F     |865 Thomas Village             |Orangeburg      |NY   |10962|41.0442|-73.9609|5950    |Records manager                   |1971-07-02|65c3c16a9dc924aaa395b00ca2f2ea68|40.728845|-74.68005600000001|0       |07934        |2012-01-02 02:00:09.000000 +08:00|2012-01-02 02:00:09.000000 +08:00|NA         |Maria|Garcia    |\n",
      "|2019-01-01 22:34:11.000000 +08:00|6595970453799027|fraud_Hagenes, Kohler and Hoppe      |food_dining |31.19 |F     |72030 Shelton Crossing Apt. 742|Stirling        |NJ   |7980 |40.6774|-74.4968|2307    |Science writer                    |1969-09-11|435abb30825fb92190805a3e31a19462|41.398262|-73.768721        |0       |10541        |2012-01-02 06:34:11.000000 +08:00|2012-01-02 06:34:11.000000 +08:00|APBCUS61   |Gina |Gomez     |\n",
      "|2019-01-08 04:43:39.000000 +08:00|577588686219    |fraud_Gottlieb, Considine and Schultz|shopping_net|148.43|M     |25454 Leonard Lake             |Spring Church   |PA   |15686|40.6153|-79.4545|972     |Public relations account executive|1997-10-23|1068fe113b1c8f6fcd5597dff3d992e5|41.548501|-78.97296         |0       |16728        |2012-01-08 12:43:39.000000 +08:00|2012-01-08 12:43:39.000000 +08:00|CITIUS33CHI|James|Strickland|\n",
      "|2019-01-09 06:08:33.000000 +08:00|3566875419572867|fraud_Breitenberg-Hermiston          |kids_pets   |50.63 |M     |997 Cameron Meadow Apt. 980    |South Hero      |VT   |5486 |44.64  |-73.3113|1654    |Transport planner                 |1991-01-31|8c079459109d9d3e046597dfdab5dcd2|43.788225|-73.188212        |0       |05733        |2012-01-09 14:08:33.000000 +08:00|2012-01-09 14:08:33.000000 +08:00|Null       |Adam |Mcdonald  |\n",
      "+---------------------------------+----------------+-------------------------------------+------------+------+------+-------------------------------+----------------+-----+-----+-------+--------+--------+----------------------------------+----------+--------------------------------+---------+------------------+--------+-------------+---------------------------------+---------------------------------+-----------+-----+----------+\n",
      "only showing top 5 rows\n",
      "\n"
     ]
    },
    {
     "name": "stderr",
     "output_type": "stream",
     "text": [
      "                                                                                \r"
     ]
    }
   ],
   "source": [
    "df = clean_and_split_names(df, \"person_name\", \"first\", \"last\")\n",
    "df = df.drop(\"person_name\")\n",
    "df.show(5, truncate=False)"
   ]
  },
  {
   "cell_type": "markdown",
   "metadata": {},
   "source": [
    "# PII Sanitization\n",
    "Sanitizing PII is a tricky topic and depends on the downstream use cases and regulations surrounding the data.\n",
    "\n",
    "# Considerations for data storage\n",
    "- For the purposes of this assignment, we have the CC owner information (gender, job, dob, etc) and the Merchant details stored alongside the transaction data. \n",
    "- But ideally these details should be normalized and stored in a separate dimension table, with a foreign key to the transaction table. Then access to the database containing the details should be RBAC-based and controlled through policies.\n",
    "- When storing the PII such as first and last name, we should store the hashed or encrypted version of the name. More on that below.\n",
    "- The key to the encryption should be tightly controlled and exposed only to certain roles.\n",
    "\n",
    "\n",
    "# Considerations for masking and hashing\n",
    "If we choose to entirely mask or hash the PII, then downstream analysis might be hamstrung. \n",
    "\n",
    "For example, if we mask the credit card number, we would not be able to use it for any analysis / joining to BIN number lists to identify the issuing bank / card type. For example an e-commerce site may want to use the first 6 to 8 digits of the credit card number to identify the issuing bank / card type to offer rewards to the cardholder, upon eligible transactions.\n",
    "\n",
    "\n",
    "Options for masking and hashing:\n",
    "- Partial anonymization: J*** D**, easy to implement but weak and identity thieves can still infer an identity using a few more personal details.\n",
    "- Full masking: XXXX XXX, strong and simple to implement, but cannot be used for any analysis. \n",
    "- Hashing (unsalted): Pros: Same input ⇒ same hash ⇒ you can still group or join records by name. Cons: Can be reverse-engineered / vulnerable to rainbow table (pre-computed key-value pairs) attacks if leaked.\n",
    "- Hashing (salted): Prevents rainbow table attacks since knowing the hash alone is not enough to reverse-engineer the original input. \n",
    "\n",
    "# Considerations for encryption\n",
    "More flexible and secure than hashing, but requires more resources to encrypt and decrypt data. \n",
    "- This preserves the ability to use the PII for unique-user analysis because the same input value will always produce the same output. \n",
    "- In addition, teams that really need to access the raw PII data can be granted access to the encryption key.\n",
    "\n",
    "Ref: \n",
    "- https://www.chargeflow.io/blog/bank-identification-numbers-bin-the-backbone-of-payment-processing\n",
    "- https://www.pdpc.gov.sg/-/media/files/pdpc/pdf-files/advisory-guidelines/guide-to-basic-anonymisation-(updated-24-july-2024).pdf\n"
   ]
  },
  {
   "cell_type": "code",
   "execution_count": 15,
   "metadata": {},
   "outputs": [],
   "source": [
    "def mask_credit_card(df: DataFrame, input_col: str, output_col: str) -> DataFrame:\n",
    "    \"\"\"\n",
    "    Always masks at least one digit in the middle, even if the total length is <= 12.\n",
    "    \"\"\"\n",
    "    df = df.withColumn(input_col, col(input_col).cast(\"string\"))\n",
    "    masked = expr(\n",
    "        f\"\"\"CASE\n",
    "             WHEN length({input_col}) > 12 THEN\n",
    "               concat(\n",
    "                 substr({input_col}, 1, 8),\n",
    "                 repeat('*', length({input_col}) - 12),\n",
    "                 substr({input_col}, -4, 4)\n",
    "               )\n",
    "             ELSE\n",
    "               concat(\n",
    "                 substr({input_col}, 1, 8),\n",
    "                 '*',\n",
    "                 substr({input_col}, 9, length({input_col})-8)\n",
    "               )\n",
    "           END\"\"\"\n",
    "    )\n",
    "    return df.withColumn(output_col, masked)\n",
    "\n",
    "def encrypt_column(\n",
    "    df: DataFrame,\n",
    "    input_col: str,\n",
    "    output_col: str,\n",
    "    key: bytes\n",
    ") -> DataFrame:\n",
    "    \"\"\"\n",
    "    Encrypt `input_col` → `output_col` using Spark's native AES_ENCRYPT (ECB mode).\n",
    "\n",
    "    :param df:         input DataFrame\n",
    "    :param input_col:  name of plaintext (string) column\n",
    "    :param output_col: name of resulting ciphertext (binary) column\n",
    "    :param key:        raw AES key (must be 16, 24, or 32 bytes)\n",
    "    \"\"\"\n",
    "    # wrap the key as a literal binary\n",
    "    key_lit = lit(key)\n",
    "    return df.withColumn(output_col, base64(aes_encrypt(input=col(input_col), key=key_lit)))"
   ]
  },
  {
   "cell_type": "code",
   "execution_count": 16,
   "metadata": {},
   "outputs": [
    {
     "name": "stderr",
     "output_type": "stream",
     "text": [
      "[Stage 52:=========================>                               (5 + 6) / 11]\r"
     ]
    },
    {
     "name": "stdout",
     "output_type": "stream",
     "text": [
      "+---------------------------------+----------------+-------------------------------------+------------+------+------+-------------------------------+----------------+-----+-----+-------+--------+--------+----------------------------------+----+--------------------------------+---------+------------------+--------+-------------+---------------------------------+---------------------------------+-----------+-----+----------+\n",
      "|trans_date_trans_time            |cc_num          |merchant                             |category    |amt   |gender|street                         |city            |state|zip  |lat    |long    |city_pop|job                               |dob |trans_num                       |merch_lat|merch_long        |is_fraud|merch_zipcode|merch_last_update_time           |merch_eff_time                   |cc_bic     |first|last      |\n",
      "+---------------------------------+----------------+-------------------------------------+------------+------+------+-------------------------------+----------------+-----+-----+-------+--------+--------+----------------------------------+----+--------------------------------+---------+------------------+--------+-------------+---------------------------------+---------------------------------+-----------+-----+----------+\n",
      "|2019-01-01 17:36:41.000000 +08:00|370877495212014 |fraud_Rippin, Kub and Mann           |misc_net    |126.43|F     |25961 Beverly Union Apt. 042   |North Wilkesboro|NC   |28659|36.2017|-81.1286|21134   |Dispensing optician               |1984|64b5c04fdc3ba28e73cfddeb63877ef3|36.720747|-81.178168        |0       |24326        |2012-01-02 01:36:41.000000 +08:00|2012-01-02 01:36:41.000000 +08:00|ADMDUS41   |Sarah|Clark     |\n",
      "|2019-01-01 18:00:09.000000 +08:00|340951438290556 |fraud_Wiza LLC                       |misc_pos    |131.16|F     |865 Thomas Village             |Orangeburg      |NY   |10962|41.0442|-73.9609|5950    |Records manager                   |1971|65c3c16a9dc924aaa395b00ca2f2ea68|40.728845|-74.68005600000001|0       |07934        |2012-01-02 02:00:09.000000 +08:00|2012-01-02 02:00:09.000000 +08:00|NA         |Maria|Garcia    |\n",
      "|2019-01-01 22:34:11.000000 +08:00|6595970453799027|fraud_Hagenes, Kohler and Hoppe      |food_dining |31.19 |F     |72030 Shelton Crossing Apt. 742|Stirling        |NJ   |7980 |40.6774|-74.4968|2307    |Science writer                    |1969|435abb30825fb92190805a3e31a19462|41.398262|-73.768721        |0       |10541        |2012-01-02 06:34:11.000000 +08:00|2012-01-02 06:34:11.000000 +08:00|APBCUS61   |Gina |Gomez     |\n",
      "|2019-01-08 04:43:39.000000 +08:00|577588686219    |fraud_Gottlieb, Considine and Schultz|shopping_net|148.43|M     |25454 Leonard Lake             |Spring Church   |PA   |15686|40.6153|-79.4545|972     |Public relations account executive|1997|1068fe113b1c8f6fcd5597dff3d992e5|41.548501|-78.97296         |0       |16728        |2012-01-08 12:43:39.000000 +08:00|2012-01-08 12:43:39.000000 +08:00|CITIUS33CHI|James|Strickland|\n",
      "|2019-01-09 06:08:33.000000 +08:00|3566875419572867|fraud_Breitenberg-Hermiston          |kids_pets   |50.63 |M     |997 Cameron Meadow Apt. 980    |South Hero      |VT   |5486 |44.64  |-73.3113|1654    |Transport planner                 |1991|8c079459109d9d3e046597dfdab5dcd2|43.788225|-73.188212        |0       |05733        |2012-01-09 14:08:33.000000 +08:00|2012-01-09 14:08:33.000000 +08:00|Null       |Adam |Mcdonald  |\n",
      "+---------------------------------+----------------+-------------------------------------+------------+------+------+-------------------------------+----------------+-----+-----+-------+--------+--------+----------------------------------+----+--------------------------------+---------+------------------+--------+-------------+---------------------------------+---------------------------------+-----------+-----+----------+\n",
      "only showing top 5 rows\n",
      "\n"
     ]
    },
    {
     "name": "stderr",
     "output_type": "stream",
     "text": [
      "                                                                                \r"
     ]
    }
   ],
   "source": [
    "# truncate dob to year - this is a way to \"generalize\" the dob\n",
    "df = df.withColumn(\"dob\", year(col(\"dob\")))\n",
    "df.show(5, truncate=False)"
   ]
  },
  {
   "cell_type": "code",
   "execution_count": 17,
   "metadata": {},
   "outputs": [
    {
     "name": "stderr",
     "output_type": "stream",
     "text": [
      "[Stage 61:===============>                                         (3 + 8) / 11]\r"
     ]
    },
    {
     "name": "stdout",
     "output_type": "stream",
     "text": [
      "+---------------------------------+----------------+-------------------------------------+------------+------+------+-------------------------------+----------------+-----+-----+-------+--------+--------+----------------------------------+----+--------------------------------+---------+------------------+--------+-------------+---------------------------------+---------------------------------+-----------+-----+----------+\n",
      "|trans_date_trans_time            |cc_num          |merchant                             |category    |amt   |gender|street                         |city            |state|zip  |lat    |long    |city_pop|job                               |dob |trans_num                       |merch_lat|merch_long        |is_fraud|merch_zipcode|merch_last_update_time           |merch_eff_time                   |cc_bic     |first|last      |\n",
      "+---------------------------------+----------------+-------------------------------------+------------+------+------+-------------------------------+----------------+-----+-----+-------+--------+--------+----------------------------------+----+--------------------------------+---------+------------------+--------+-------------+---------------------------------+---------------------------------+-----------+-----+----------+\n",
      "|2019-01-01 17:36:41.000000 +08:00|37087749***2014 |fraud_Rippin, Kub and Mann           |misc_net    |126.43|F     |25961 Beverly Union Apt. 042   |North Wilkesboro|NC   |28659|36.2017|-81.1286|21134   |Dispensing optician               |1984|64b5c04fdc3ba28e73cfddeb63877ef3|36.720747|-81.178168        |0       |24326        |2012-01-02 01:36:41.000000 +08:00|2012-01-02 01:36:41.000000 +08:00|ADMDUS41   |Sarah|Clark     |\n",
      "|2019-01-01 18:00:09.000000 +08:00|34095143***0556 |fraud_Wiza LLC                       |misc_pos    |131.16|F     |865 Thomas Village             |Orangeburg      |NY   |10962|41.0442|-73.9609|5950    |Records manager                   |1971|65c3c16a9dc924aaa395b00ca2f2ea68|40.728845|-74.68005600000001|0       |07934        |2012-01-02 02:00:09.000000 +08:00|2012-01-02 02:00:09.000000 +08:00|NA         |Maria|Garcia    |\n",
      "|2019-01-01 22:34:11.000000 +08:00|65959704****9027|fraud_Hagenes, Kohler and Hoppe      |food_dining |31.19 |F     |72030 Shelton Crossing Apt. 742|Stirling        |NJ   |7980 |40.6774|-74.4968|2307    |Science writer                    |1969|435abb30825fb92190805a3e31a19462|41.398262|-73.768721        |0       |10541        |2012-01-02 06:34:11.000000 +08:00|2012-01-02 06:34:11.000000 +08:00|APBCUS61   |Gina |Gomez     |\n",
      "|2019-01-08 04:43:39.000000 +08:00|57758868*6219   |fraud_Gottlieb, Considine and Schultz|shopping_net|148.43|M     |25454 Leonard Lake             |Spring Church   |PA   |15686|40.6153|-79.4545|972     |Public relations account executive|1997|1068fe113b1c8f6fcd5597dff3d992e5|41.548501|-78.97296         |0       |16728        |2012-01-08 12:43:39.000000 +08:00|2012-01-08 12:43:39.000000 +08:00|CITIUS33CHI|James|Strickland|\n",
      "|2019-01-09 06:08:33.000000 +08:00|35668754****2867|fraud_Breitenberg-Hermiston          |kids_pets   |50.63 |M     |997 Cameron Meadow Apt. 980    |South Hero      |VT   |5486 |44.64  |-73.3113|1654    |Transport planner                 |1991|8c079459109d9d3e046597dfdab5dcd2|43.788225|-73.188212        |0       |05733        |2012-01-09 14:08:33.000000 +08:00|2012-01-09 14:08:33.000000 +08:00|Null       |Adam |Mcdonald  |\n",
      "+---------------------------------+----------------+-------------------------------------+------------+------+------+-------------------------------+----------------+-----+-----+-------+--------+--------+----------------------------------+----+--------------------------------+---------+------------------+--------+-------------+---------------------------------+---------------------------------+-----------+-----+----------+\n",
      "only showing top 5 rows\n",
      "\n"
     ]
    },
    {
     "name": "stderr",
     "output_type": "stream",
     "text": [
      "                                                                                \r"
     ]
    }
   ],
   "source": [
    "df = mask_credit_card(df, \"cc_num\", \"cc_num\")\n",
    "df.show(5, truncate=False)"
   ]
  },
  {
   "cell_type": "code",
   "execution_count": 18,
   "metadata": {},
   "outputs": [],
   "source": [
    "# IRL this should be retrieved from a secure key vault or KMS\n",
    "aes_key = b\"0123456789ABCDEF\""
   ]
  },
  {
   "cell_type": "code",
   "execution_count": 19,
   "metadata": {},
   "outputs": [
    {
     "name": "stderr",
     "output_type": "stream",
     "text": [
      "[Stage 70:===============>                                         (3 + 8) / 11]\r"
     ]
    },
    {
     "name": "stdout",
     "output_type": "stream",
     "text": [
      "+---------------------------------+----------------+-------------------------------------+------------+------+------+-------------------------------+----------------+-----+-----+-------+--------+--------+----------------------------------+----+--------------------------------+---------+------------------+--------+-------------+---------------------------------+---------------------------------+-----------+--------------------------------------------+----------------------------------------------------+\n",
      "|trans_date_trans_time            |cc_num          |merchant                             |category    |amt   |gender|street                         |city            |state|zip  |lat    |long    |city_pop|job                               |dob |trans_num                       |merch_lat|merch_long        |is_fraud|merch_zipcode|merch_last_update_time           |merch_eff_time                   |cc_bic     |first                                       |last                                                |\n",
      "+---------------------------------+----------------+-------------------------------------+------------+------+------+-------------------------------+----------------+-----+-----+-------+--------+--------+----------------------------------+----+--------------------------------+---------+------------------+--------+-------------+---------------------------------+---------------------------------+-----------+--------------------------------------------+----------------------------------------------------+\n",
      "|2019-01-01 17:36:41.000000 +08:00|37087749***2014 |fraud_Rippin, Kub and Mann           |misc_net    |126.43|F     |25961 Beverly Union Apt. 042   |North Wilkesboro|NC   |28659|36.2017|-81.1286|21134   |Dispensing optician               |1984|64b5c04fdc3ba28e73cfddeb63877ef3|36.720747|-81.178168        |0       |24326        |2012-01-02 01:36:41.000000 +08:00|2012-01-02 01:36:41.000000 +08:00|ADMDUS41   |L4dfP5rMGMIess9QksUKGtVUtRLIc6JXYdMx9USnAmQu|whKTuseUcIDWCK+MhCKP5TdHOmkwMRtHbpaJ2NtEW1PD        |\n",
      "|2019-01-01 18:00:09.000000 +08:00|34095143***0556 |fraud_Wiza LLC                       |misc_pos    |131.16|F     |865 Thomas Village             |Orangeburg      |NY   |10962|41.0442|-73.9609|5950    |Records manager                   |1971|65c3c16a9dc924aaa395b00ca2f2ea68|40.728845|-74.68005600000001|0       |07934        |2012-01-02 02:00:09.000000 +08:00|2012-01-02 02:00:09.000000 +08:00|NA         |XkMTExFHaLopG7FuCvzH+H/DR6OcLluK5rLh9qJYMgZX|Qu3IBA/7gKWCtswBsDMdaHA921R15fjRMrJwn6MDNMAwSw==    |\n",
      "|2019-01-01 22:34:11.000000 +08:00|65959704****9027|fraud_Hagenes, Kohler and Hoppe      |food_dining |31.19 |F     |72030 Shelton Crossing Apt. 742|Stirling        |NJ   |7980 |40.6774|-74.4968|2307    |Science writer                    |1969|435abb30825fb92190805a3e31a19462|41.398262|-73.768721        |0       |10541        |2012-01-02 06:34:11.000000 +08:00|2012-01-02 06:34:11.000000 +08:00|APBCUS61   |zO+0Gf9bQkCUkT9/yWjg0Oy8AyML8rhcpf2DJ3oSRCA=|riMnJB8vFUPrKbSLzMym8Jwmm3dTPlMsINOoqIDjv50I        |\n",
      "|2019-01-08 04:43:39.000000 +08:00|57758868*6219   |fraud_Gottlieb, Considine and Schultz|shopping_net|148.43|M     |25454 Leonard Lake             |Spring Church   |PA   |15686|40.6153|-79.4545|972     |Public relations account executive|1997|1068fe113b1c8f6fcd5597dff3d992e5|41.548501|-78.97296         |0       |16728        |2012-01-08 12:43:39.000000 +08:00|2012-01-08 12:43:39.000000 +08:00|CITIUS33CHI|YOiYbkJKkOdzZ882Rzbi7mC8UHVw0WgZ7lE0N1ndimzv|j87YYTbqraNHTE/qAIIOu96p6i9GHGxSnbwtSN6Fz40sGIs7LWI=|\n",
      "|2019-01-09 06:08:33.000000 +08:00|35668754****2867|fraud_Breitenberg-Hermiston          |kids_pets   |50.63 |M     |997 Cameron Meadow Apt. 980    |South Hero      |VT   |5486 |44.64  |-73.3113|1654    |Transport planner                 |1991|8c079459109d9d3e046597dfdab5dcd2|43.788225|-73.188212        |0       |05733        |2012-01-09 14:08:33.000000 +08:00|2012-01-09 14:08:33.000000 +08:00|Null       |a6bWE0dAlNwUgsglQnRo2nVj9HDR+6kFrqby08ctPQ0=|kQUgpBb9b89WHba4Ti435CpP5LOoAM16A5AKJwyZqTcw/ZAO    |\n",
      "+---------------------------------+----------------+-------------------------------------+------------+------+------+-------------------------------+----------------+-----+-----+-------+--------+--------+----------------------------------+----+--------------------------------+---------+------------------+--------+-------------+---------------------------------+---------------------------------+-----------+--------------------------------------------+----------------------------------------------------+\n",
      "only showing top 5 rows\n",
      "\n"
     ]
    },
    {
     "name": "stderr",
     "output_type": "stream",
     "text": [
      "                                                                                \r"
     ]
    }
   ],
   "source": [
    "df = encrypt_column(df, input_col=\"first\", output_col=\"first\", key=aes_key)\n",
    "df = encrypt_column(df, input_col=\"last\", output_col=\"last\", key=aes_key)\n",
    "df.show(5, truncate=False)"
   ]
  },
  {
   "cell_type": "code",
   "execution_count": 20,
   "metadata": {},
   "outputs": [
    {
     "name": "stderr",
     "output_type": "stream",
     "text": [
      "[Stage 79:=========================================>               (8 + 3) / 11]\r"
     ]
    },
    {
     "name": "stdout",
     "output_type": "stream",
     "text": [
      "+---------------------------------+----------------+-------------------------------------+------------+------+------+-------------------------------+----------------+-----+-----+-------+--------+--------+----------------------------------+----+--------------------------------+---------+------------------+--------+-------------+---------------------------------+---------------------------------+-----------+--------------------------------------------+----------------------------------------------------+\n",
      "|trans_date_trans_time            |cc_num          |merchant                             |category    |amt   |gender|street                         |city            |state|zip  |lat    |long    |city_pop|job                               |dob |trans_num                       |merch_lat|merch_long        |is_fraud|merch_zipcode|merch_last_update_time           |merch_eff_time                   |cc_bic     |first                                       |last                                                |\n",
      "+---------------------------------+----------------+-------------------------------------+------------+------+------+-------------------------------+----------------+-----+-----+-------+--------+--------+----------------------------------+----+--------------------------------+---------+------------------+--------+-------------+---------------------------------+---------------------------------+-----------+--------------------------------------------+----------------------------------------------------+\n",
      "|2019-01-01 17:36:41.000000 +08:00|37087749***2014 |fraud_Rippin, Kub and Mann           |misc_net    |126.43|F     |XXXXX Beverly Union Apt. XXX   |North Wilkesboro|NC   |28659|36.2017|-81.1286|21134   |Dispensing optician               |1984|64b5c04fdc3ba28e73cfddeb63877ef3|36.720747|-81.178168        |0       |24326        |2012-01-02 01:36:41.000000 +08:00|2012-01-02 01:36:41.000000 +08:00|ADMDUS41   |xKlY3d5dzxRKLiBhB2BmIEbfHYw6UqV4cQ17n4VF07ot|hDgCQC+eRGPGwfcJaQ2cuf7hHgfIiPLm9KRZa9B3nVeB        |\n",
      "|2019-01-01 18:00:09.000000 +08:00|34095143***0556 |fraud_Wiza LLC                       |misc_pos    |131.16|F     |XXX Thomas Village             |Orangeburg      |NY   |10962|41.0442|-73.9609|5950    |Records manager                   |1971|65c3c16a9dc924aaa395b00ca2f2ea68|40.728845|-74.68005600000001|0       |07934        |2012-01-02 02:00:09.000000 +08:00|2012-01-02 02:00:09.000000 +08:00|NA         |KnnATZ4ect3vQWXnOpAaX4h8bqN7DTPAFK7o94UfALQb|K0vmj1uctXTrzB3fvTtsXST0XAmAUlSqw+AOqhC2eD3ntQ==    |\n",
      "|2019-01-01 22:34:11.000000 +08:00|65959704****9027|fraud_Hagenes, Kohler and Hoppe      |food_dining |31.19 |F     |XXXXX Shelton Crossing Apt. XXX|Stirling        |NJ   |7980 |40.6774|-74.4968|2307    |Science writer                    |1969|435abb30825fb92190805a3e31a19462|41.398262|-73.768721        |0       |10541        |2012-01-02 06:34:11.000000 +08:00|2012-01-02 06:34:11.000000 +08:00|APBCUS61   |IZS6krqlei+rePp/x5ceTjbWxzGhb4lYj0gD/PjNdkc=|lOZNPxXJQbfJ04oVonNIZEcn49bQWwtsFvejjMUMfONq        |\n",
      "|2019-01-08 04:43:39.000000 +08:00|57758868*6219   |fraud_Gottlieb, Considine and Schultz|shopping_net|148.43|M     |XXXXX Leonard Lake             |Spring Church   |PA   |15686|40.6153|-79.4545|972     |Public relations account executive|1997|1068fe113b1c8f6fcd5597dff3d992e5|41.548501|-78.97296         |0       |16728        |2012-01-08 12:43:39.000000 +08:00|2012-01-08 12:43:39.000000 +08:00|CITIUS33CHI|5IU35qNLHLJvWtTx3BcMZO6O4wa1NWOLoP62COglizIX|G1R9qBd+DDdVTnTdRiVOl1nJ9nPm2/BtXdVqvzRCpgZb/4rIZaY=|\n",
      "|2019-01-09 06:08:33.000000 +08:00|35668754****2867|fraud_Breitenberg-Hermiston          |kids_pets   |50.63 |M     |XXX Cameron Meadow Apt. XXX    |South Hero      |VT   |5486 |44.64  |-73.3113|1654    |Transport planner                 |1991|8c079459109d9d3e046597dfdab5dcd2|43.788225|-73.188212        |0       |05733        |2012-01-09 14:08:33.000000 +08:00|2012-01-09 14:08:33.000000 +08:00|Null       |CW6QBkNvWIVmVAT83mLA0tuvNXvviRYd7VuglLb35Gg=|89xnEfKHnFDjVGw3dLUQgH5jEpOu5nf3fY0Uhc6FyySemMbK    |\n",
      "+---------------------------------+----------------+-------------------------------------+------------+------+------+-------------------------------+----------------+-----+-----+-------+--------+--------+----------------------------------+----+--------------------------------+---------+------------------+--------+-------------+---------------------------------+---------------------------------+-----------+--------------------------------------------+----------------------------------------------------+\n",
      "only showing top 5 rows\n",
      "\n"
     ]
    },
    {
     "name": "stderr",
     "output_type": "stream",
     "text": [
      "                                                                                \r"
     ]
    }
   ],
   "source": [
    "# replace digits in street address with X to obscure the address\n",
    "df = df.withColumn(\n",
    "    \"street\",\n",
    "    regexp_replace(col(\"street\"), r\"\\d\", \"X\")\n",
    ")\n",
    "df.show(5, truncate=False)"
   ]
  },
  {
   "cell_type": "code",
   "execution_count": 21,
   "metadata": {},
   "outputs": [
    {
     "name": "stderr",
     "output_type": "stream",
     "text": [
      "[Stage 88:>                                                       (0 + 10) / 11]\r"
     ]
    },
    {
     "name": "stdout",
     "output_type": "stream",
     "text": [
      "Retail merchandiser\n",
      "Librarian, academic\n",
      "Designer, ceramics/pottery\n",
      "Catering manager\n",
      "Engineer, aeronautical\n",
      "English as a second language teacher\n",
      "Early years teacher\n",
      "Occupational hygienist\n",
      "Primary school teacher\n",
      "Control and instrumentation engineer\n"
     ]
    },
    {
     "name": "stderr",
     "output_type": "stream",
     "text": [
      "                                                                                \r"
     ]
    }
   ],
   "source": [
    "# Check and see if there is a pattern to the job titles\n",
    "unique_values = df.select(\"job\").distinct().collect()\n",
    "for row in unique_values[:10]:\n",
    "    print(row.job)"
   ]
  },
  {
   "cell_type": "markdown",
   "metadata": {},
   "source": [
    "One can argue that there is a pattern to the job titles, such that we can generalize them by using regex and other string manipulation functions. The downside is that these patterns are not always consistent and may change over time, rendering our logic obsolete.\n",
    "\n",
    "But a better and more nuanced approach to generalize the job titles would be to:\n",
    "1. Convert a fixed list of industries (that we would like to analyze by) into embeddings.\n",
    "2. Convert the job titles into embeddings. Then use RAG to map each individual's job title to an industry. \n",
    "3. In the final dataset, we can then expose only the industry, but not the job title. \n",
    "\n",
    "The challenge here would be how to scalably run the embeddings and retrieval for each new user entity. "
   ]
  },
  {
   "cell_type": "code",
   "execution_count": 22,
   "metadata": {},
   "outputs": [],
   "source": [
    "# Convert the spark df into a pandas df for visualization\n",
    "# df_pandas = df.toPandas()"
   ]
  },
  {
   "cell_type": "code",
   "execution_count": null,
   "metadata": {},
   "outputs": [],
   "source": []
  }
 ],
 "metadata": {
  "kernelspec": {
   "display_name": ".venv",
   "language": "python",
   "name": "python3"
  },
  "language_info": {
   "codemirror_mode": {
    "name": "ipython",
    "version": 3
   },
   "file_extension": ".py",
   "mimetype": "text/x-python",
   "name": "python",
   "nbconvert_exporter": "python",
   "pygments_lexer": "ipython3",
   "version": "3.10.17"
  }
 },
 "nbformat": 4,
 "nbformat_minor": 2
}
