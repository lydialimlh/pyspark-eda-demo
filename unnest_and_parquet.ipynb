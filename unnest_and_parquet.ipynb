{
 "cells": [
  {
   "cell_type": "code",
   "execution_count": 1,
   "metadata": {},
   "outputs": [],
   "source": [
    "from pyspark.sql import SparkSession\n",
    "from pyspark.sql.functions import from_json, col\n",
    "from pyspark.sql.types import (\n",
    "    StructType, StructField,\n",
    "    StringType, DoubleType, IntegerType, DateType\n",
    ")\n"
   ]
  },
  {
   "cell_type": "code",
   "execution_count": 2,
   "metadata": {},
   "outputs": [
    {
     "name": "stderr",
     "output_type": "stream",
     "text": [
      "25/05/26 23:27:07 WARN Utils: Your hostname, Lydias-MacBook-Pro.local resolves to a loopback address: 127.0.0.1; using 192.168.68.50 instead (on interface en0)\n",
      "25/05/26 23:27:07 WARN Utils: Set SPARK_LOCAL_IP if you need to bind to another address\n",
      "Setting default log level to \"WARN\".\n",
      "To adjust logging level use sc.setLogLevel(newLevel). For SparkR, use setLogLevel(newLevel).\n",
      "25/05/26 23:27:08 WARN NativeCodeLoader: Unable to load native-hadoop library for your platform... using builtin-java classes where applicable\n",
      "25/05/26 23:27:08 WARN Utils: Service 'SparkUI' could not bind on port 4040. Attempting port 4041.\n"
     ]
    }
   ],
   "source": [
    "spark = SparkSession.builder.getOrCreate()\n"
   ]
  },
  {
   "cell_type": "code",
   "execution_count": 3,
   "metadata": {},
   "outputs": [],
   "source": [
    "# Define schema for each record:\n",
    "\n",
    "address_schema = StructType([\n",
    "    StructField(\"street\", StringType(), True),\n",
    "    StructField(\"city\",   StringType(), True),\n",
    "    StructField(\"state\",  StringType(), True),\n",
    "    StructField(\"zip\",    StringType(), True),\n",
    "])\n",
    "\n",
    "personal_detail_schema = StructType([\n",
    "    StructField(\"person_name\", StringType(), True),\n",
    "    StructField(\"gender\",      StringType(), True),\n",
    "    StructField(\"address\",     StringType(), True),\n",
    "    StructField(\"lat\",         StringType(), True),\n",
    "    StructField(\"long\",        StringType(), True),\n",
    "    StructField(\"city_pop\",    StringType(), True),\n",
    "    StructField(\"job\",         StringType(), True),\n",
    "    StructField(\"dob\",         DateType(), True),\n",
    "])\n",
    "\n",
    "tranasction_schema = StructType([\n",
    "    StructField(\"amt\",StringType(), True),\n",
    "    StructField(\"category\", StringType(), True),\n",
    "    StructField(\"cc_bic\",StringType(), True),\n",
    "    StructField(\"cc_num\",StringType(), True),\n",
    "    StructField(\"is_fraud\",StringType(), True),\n",
    "    StructField(\"merch_eff_time\",StringType(), True),\n",
    "    StructField(\"merch_last_update_time\",StringType(), True),\n",
    "    StructField(\"merch_lat\",StringType(), True),\n",
    "    StructField(\"merch_long\",StringType(), True),\n",
    "    StructField(\"merch_zipcode\",StringType(), True),\n",
    "    StructField(\"merchant\",StringType(), True),\n",
    "    StructField(\"personal_detail\",StringType(), True),\n",
    "    StructField(\"trans_date_trans_time\",StringType(), True),\n",
    "    StructField(\"trans_num\",StringType(), True),\n",
    "])\n",
    "\n",
    "def parse_json_field(df, column_name, schema, new_column_name=None):\n",
    "    \"\"\"\n",
    "    Parse a JSON field in a DataFrame using the provided schema.\n",
    "    \n",
    "    Args:\n",
    "        df: Input DataFrame\n",
    "        column_name: Name of the column containing JSON data\n",
    "        schema: Schema to use for parsing\n",
    "        new_column_name: Name for the new column (defaults to column_name)\n",
    "    \n",
    "    Returns:\n",
    "        DataFrame with parsed JSON field\n",
    "    \"\"\"\n",
    "    if new_column_name is None:\n",
    "        new_column_name = column_name\n",
    "        \n",
    "    return df.withColumn(\n",
    "        new_column_name,\n",
    "        from_json(col(column_name), schema)\n",
    "    )\n"
   ]
  },
  {
   "cell_type": "code",
   "execution_count": 4,
   "metadata": {},
   "outputs": [
    {
     "name": "stdout",
     "output_type": "stream",
     "text": [
      "+------+-------------+-----------+----------------+--------+----------------+----------------------+------------------+-----------+-------------+--------------------+--------------------+---------------------+--------------------+\n",
      "|   amt|     category|     cc_bic|          cc_num|is_fraud|  merch_eff_time|merch_last_update_time|         merch_lat| merch_long|merch_zipcode|            merchant|     personal_detail|trans_date_trans_time|           trans_num|\n",
      "+------+-------------+-----------+----------------+--------+----------------+----------------------+------------------+-----------+-------------+--------------------+--------------------+---------------------+--------------------+\n",
      "|  4.97|     misc_net|CITIUS33CHI|2703186189652095|       0|1325376018798532|         1325376018666|         36.011293| -82.048315|        28705|fraud_Rippin, Kub...|{\"person_name\":\"J...|  2019-01-01 00:00:18|0b242abb623afc578...|\n",
      "|107.23|  grocery_pos|   ADMDUS41|    630423337322|       0|1325376044867960|          132537604479|49.159046999999994|-118.186462|         NULL|fraud_Heller, Gut...|{\"person_name\":\"S...|  2019-01-01 00:00:44|1f76529f857473494...|\n",
      "|220.11|entertainment|       Null|  38859492057661|       0|1325376051506840|         1325376051286|         43.150704|-112.154481|        83236|fraud_Lind-Buckridge|{\"person_name\":\"E...|  2019-01-01 00:00:51|a1a22d70485983eac...|\n",
      "|  45.0|gas_transport|DEUTUS33TRF|3534093764340240|       0|1325376076794698|         1325376076365|         47.034331|-112.561071|         NULL|fraud_Kutch, Herm...|{\"person_name\":\"J...|  2019-01-01 00:01:16|6b849c168bdad6f86...|\n",
      "| 41.96|     misc_pos|   APBCUS61| 375534208663984|       0|1325376186746376|          132537618681|         38.674999| -78.632459|        22844| fraud_Keeling-Crist|{\"person_name\":\"T...|  2019-01-01 00:03:06|a41d7549acf907893...|\n",
      "+------+-------------+-----------+----------------+--------+----------------+----------------------+------------------+-----------+-------------+--------------------+--------------------+---------------------+--------------------+\n",
      "only showing top 5 rows\n",
      "\n"
     ]
    }
   ],
   "source": [
    "# Read JSON data\n",
    "raw = spark.read.schema(tranasction_schema).json(\"data_fixtures/cc_sample_transaction.json\")\n",
    "\n",
    "raw.show(5)"
   ]
  },
  {
   "cell_type": "code",
   "execution_count": 5,
   "metadata": {},
   "outputs": [
    {
     "name": "stdout",
     "output_type": "stream",
     "text": [
      "+------+-------------+-----------+----------------+--------+----------------+----------------------+------------------+-----------+-------------+--------------------+--------------------+---------------------+--------------------+--------------------+\n",
      "|   amt|     category|     cc_bic|          cc_num|is_fraud|  merch_eff_time|merch_last_update_time|         merch_lat| merch_long|merch_zipcode|            merchant|     personal_detail|trans_date_trans_time|           trans_num|             address|\n",
      "+------+-------------+-----------+----------------+--------+----------------+----------------------+------------------+-----------+-------------+--------------------+--------------------+---------------------+--------------------+--------------------+\n",
      "|  4.97|     misc_net|CITIUS33CHI|2703186189652095|       0|1325376018798532|         1325376018666|         36.011293| -82.048315|        28705|fraud_Rippin, Kub...|{Jennifer,Banks,e...|  2019-01-01 00:00:18|0b242abb623afc578...|{561 Perry Cove, ...|\n",
      "|107.23|  grocery_pos|   ADMDUS41|    630423337322|       0|1325376044867960|          132537604479|49.159046999999994|-118.186462|         NULL|fraud_Heller, Gut...|{Stephanie,Gill,e...|  2019-01-01 00:00:44|1f76529f857473494...|{43039 Riley Gree...|\n",
      "|220.11|entertainment|       Null|  38859492057661|       0|1325376051506840|         1325376051286|         43.150704|-112.154481|        83236|fraud_Lind-Buckridge|{Edward@Sanchez, ...|  2019-01-01 00:00:51|a1a22d70485983eac...|{594 White Dale S...|\n",
      "|  45.0|gas_transport|DEUTUS33TRF|3534093764340240|       0|1325376076794698|         1325376076365|         47.034331|-112.561071|         NULL|fraud_Kutch, Herm...|{Jeremy/White, !,...|  2019-01-01 00:01:16|6b849c168bdad6f86...|{9443 Cynthia Cou...|\n",
      "| 41.96|     misc_pos|   APBCUS61| 375534208663984|       0|1325376186746376|          132537618681|         38.674999| -78.632459|        22844| fraud_Keeling-Crist|{Tyler@Garcia, M,...|  2019-01-01 00:03:06|a41d7549acf907893...|{408 Bradley Rest...|\n",
      "+------+-------------+-----------+----------------+--------+----------------+----------------------+------------------+-----------+-------------+--------------------+--------------------+---------------------+--------------------+--------------------+\n",
      "only showing top 5 rows\n",
      "\n"
     ]
    }
   ],
   "source": [
    "# since the JSON fields were given to us as  escaped strings, \n",
    "# we need to parse them first in order to make use of dot notation later\n",
    "parsed_personal_detail = parse_json_field(raw, \"personal_detail\", personal_detail_schema)\n",
    "parsed_address = parse_json_field(parsed_personal_detail, \"personal_detail.address\", address_schema, \"address\")\n",
    "parsed_address.show(5)\n"
   ]
  },
  {
   "cell_type": "code",
   "execution_count": 6,
   "metadata": {},
   "outputs": [
    {
     "name": "stdout",
     "output_type": "stream",
     "text": [
      "+---------------------+----------------+--------------------+-------------+------+--------------------+------+--------------------+--------------+-----+-----+-------+---------+--------+--------------------+----------+--------------------+------------------+-----------+--------+-------------+----------------------+----------------+-----------+\n",
      "|trans_date_trans_time|          cc_num|            merchant|     category|   amt|         person_name|gender|              street|          city|state|  zip|    lat|     long|city_pop|                 job|       dob|           trans_num|         merch_lat| merch_long|is_fraud|merch_zipcode|merch_last_update_time|  merch_eff_time|     cc_bic|\n",
      "+---------------------+----------------+--------------------+-------------+------+--------------------+------+--------------------+--------------+-----+-----+-------+---------+--------+--------------------+----------+--------------------+------------------+-----------+--------+-------------+----------------------+----------------+-----------+\n",
      "|  2019-01-01 00:00:18|2703186189652095|fraud_Rippin, Kub...|     misc_net|  4.97|Jennifer,Banks,eeeee|     F|      561 Perry Cove|Moravian Falls|   NC|28654|36.0788| -81.1781|    3495|Psychologist, cou...|1988-03-09|0b242abb623afc578...|         36.011293| -82.048315|       0|        28705|         1325376018666|1325376018798532|CITIUS33CHI|\n",
      "|  2019-01-01 00:00:44|    630423337322|fraud_Heller, Gut...|  grocery_pos|107.23|Stephanie,Gill,eeeee|     F|43039 Riley Green...|        Orient|   WA|99160|48.8878|-118.2105|     149|Special education...|1978-06-21|1f76529f857473494...|49.159046999999994|-118.186462|       0|         NULL|          132537604479|1325376044867960|   ADMDUS41|\n",
      "|  2019-01-01 00:00:51|  38859492057661|fraud_Lind-Buckridge|entertainment|220.11|      Edward@Sanchez|     M|594 White Dale Su...|    Malad City|   ID|83252|42.1808| -112.262|    4154|Nature conservati...|1962-01-19|a1a22d70485983eac...|         43.150704|-112.154481|       0|        83236|         1325376051286|1325376051506840|       Null|\n",
      "|  2019-01-01 00:01:16|3534093764340240|fraud_Kutch, Herm...|gas_transport|  45.0|     Jeremy/White, !|     M|9443 Cynthia Cour...|       Boulder|   MT|59632|46.2306|-112.1138|    1939|     Patent attorney|1967-01-12|6b849c168bdad6f86...|         47.034331|-112.561071|       0|         NULL|         1325376076365|1325376076794698|DEUTUS33TRF|\n",
      "|  2019-01-01 00:03:06| 375534208663984| fraud_Keeling-Crist|     misc_pos| 41.96|        Tyler@Garcia|     M|    408 Bradley Rest|      Doe Hill|   VA|24433|38.4207| -79.4629|      99|Dance movement ps...|1986-03-28|a41d7549acf907893...|         38.674999| -78.632459|       0|        22844|          132537618681|1325376186746376|   APBCUS61|\n",
      "+---------------------+----------------+--------------------+-------------+------+--------------------+------+--------------------+--------------+-----+-----+-------+---------+--------+--------------------+----------+--------------------+------------------+-----------+--------+-------------+----------------------+----------------+-----------+\n",
      "only showing top 5 rows\n",
      "\n"
     ]
    }
   ],
   "source": [
    "clean = parsed_address.select(\n",
    "    \"trans_date_trans_time\",\n",
    "    \"cc_num\",\n",
    "    \"merchant\",\n",
    "    \"category\",\n",
    "    \"amt\",\n",
    "    \"personal_detail.person_name\",\n",
    "    \"personal_detail.gender\",\n",
    "    \"address.street\",\n",
    "    \"address.city\",\n",
    "    \"address.state\",\n",
    "    \"address.zip\",\n",
    "    \"personal_detail.lat\",\n",
    "    \"personal_detail.long\",\n",
    "    \"personal_detail.city_pop\",\n",
    "    \"personal_detail.job\",\n",
    "    \"personal_detail.dob\",\n",
    "    \"trans_num\",\n",
    "    \"merch_lat\",\n",
    "    \"merch_long\",\n",
    "    \"is_fraud\",\n",
    "    \"merch_zipcode\",\n",
    "    \"merch_last_update_time\",\n",
    "    \"merch_eff_time\",\n",
    "    \"cc_bic\",\n",
    ")\n",
    "\n",
    "clean = (clean\n",
    "    .withColumn(\"lat\",      col(\"lat\").cast(DoubleType()))\n",
    "    .withColumn(\"long\",     col(\"long\").cast(DoubleType()))\n",
    "    .withColumn(\"city_pop\", col(\"city_pop\").cast(IntegerType()))\n",
    "    .withColumn(\"dob\",      col(\"dob\").cast(DateType()))\n",
    ")\n",
    "\n",
    "clean.show(5)\n"
   ]
  },
  {
   "cell_type": "code",
   "execution_count": 7,
   "metadata": {},
   "outputs": [
    {
     "name": "stderr",
     "output_type": "stream",
     "text": [
      "25/05/26 23:27:11 WARN MemoryManager: Total allocation exceeds 95.00% (1,020,054,720 bytes) of heap memory\n",
      "Scaling row group sizes to 95.00% for 8 writers\n",
      "25/05/26 23:27:11 WARN MemoryManager: Total allocation exceeds 95.00% (1,020,054,720 bytes) of heap memory\n",
      "Scaling row group sizes to 84.44% for 9 writers\n",
      "25/05/26 23:27:11 WARN MemoryManager: Total allocation exceeds 95.00% (1,020,054,720 bytes) of heap memory\n",
      "Scaling row group sizes to 76.00% for 10 writers\n",
      "25/05/26 23:27:17 WARN MemoryManager: Total allocation exceeds 95.00% (1,020,054,720 bytes) of heap memory\n",
      "Scaling row group sizes to 84.44% for 9 writers\n",
      "25/05/26 23:27:17 WARN MemoryManager: Total allocation exceeds 95.00% (1,020,054,720 bytes) of heap memory\n",
      "Scaling row group sizes to 95.00% for 8 writers\n",
      "                                                                                \r"
     ]
    },
    {
     "name": "stdout",
     "output_type": "stream",
     "text": [
      "Successfully converted JSON to Parquet format!\n"
     ]
    },
    {
     "name": "stderr",
     "output_type": "stream",
     "text": [
      "[Stage 4:>                                                        (0 + 10) / 10]\r"
     ]
    },
    {
     "name": "stdout",
     "output_type": "stream",
     "text": [
      "Number of rows: 1296675\n",
      "Schema:\n",
      "root\n",
      " |-- trans_date_trans_time: string (nullable = true)\n",
      " |-- cc_num: string (nullable = true)\n",
      " |-- merchant: string (nullable = true)\n",
      " |-- category: string (nullable = true)\n",
      " |-- amt: string (nullable = true)\n",
      " |-- person_name: string (nullable = true)\n",
      " |-- gender: string (nullable = true)\n",
      " |-- street: string (nullable = true)\n",
      " |-- city: string (nullable = true)\n",
      " |-- state: string (nullable = true)\n",
      " |-- zip: string (nullable = true)\n",
      " |-- lat: double (nullable = true)\n",
      " |-- long: double (nullable = true)\n",
      " |-- city_pop: integer (nullable = true)\n",
      " |-- job: string (nullable = true)\n",
      " |-- dob: date (nullable = true)\n",
      " |-- trans_num: string (nullable = true)\n",
      " |-- merch_lat: string (nullable = true)\n",
      " |-- merch_long: string (nullable = true)\n",
      " |-- is_fraud: string (nullable = true)\n",
      " |-- merch_zipcode: string (nullable = true)\n",
      " |-- merch_last_update_time: string (nullable = true)\n",
      " |-- merch_eff_time: string (nullable = true)\n",
      " |-- cc_bic: string (nullable = true)\n",
      "\n"
     ]
    },
    {
     "name": "stderr",
     "output_type": "stream",
     "text": [
      "                                                                                \r"
     ]
    }
   ],
   "source": [
    "# Write as Parquet file\n",
    "clean.write.mode(\"overwrite\").option(\"compression\", \"snappy\").parquet(\"data_fixtures/cc_sample_transaction.parquet\")\n",
    "\n",
    "print(\"Successfully converted JSON to Parquet format!\")\n",
    "print(f\"Number of rows: {clean.count()}\")\n",
    "print(\"Schema:\")\n",
    "clean.printSchema()"
   ]
  },
  {
   "cell_type": "code",
   "execution_count": 9,
   "metadata": {},
   "outputs": [],
   "source": []
  },
  {
   "cell_type": "code",
   "execution_count": null,
   "metadata": {},
   "outputs": [],
   "source": []
  }
 ],
 "metadata": {
  "kernelspec": {
   "display_name": ".venv",
   "language": "python",
   "name": "python3"
  },
  "language_info": {
   "codemirror_mode": {
    "name": "ipython",
    "version": 3
   },
   "file_extension": ".py",
   "mimetype": "text/x-python",
   "name": "python",
   "nbconvert_exporter": "python",
   "pygments_lexer": "ipython3",
   "version": "3.10.17"
  }
 },
 "nbformat": 4,
 "nbformat_minor": 2
}
