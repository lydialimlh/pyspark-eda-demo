{
 "cells": [
  {
   "cell_type": "code",
   "execution_count": 59,
   "metadata": {},
   "outputs": [
    {
     "name": "stdout",
     "output_type": "stream",
     "text": [
      "/opt/homebrew/opt/openjdk@17/libexec/openjdk.jdk/Contents/Home\n",
      "/Users/lydialim/pyspark-eda-demo/.venv/lib/python3.10/site-packages/pyspark\n"
     ]
    }
   ],
   "source": [
    "# validate env setup\n",
    "import os\n",
    "\n",
    "from pyspark.sql import SparkSession\n",
    "\n",
    "# ensure that these variables are set in your env, either through your shell config file or venv activation script\n",
    "print(os.environ.get(\"JAVA_HOME\"))  # \"/opt/homebrew/opt/openjdk@11/libexec/openjdk.jdk/Contents/Home\"\n",
    "print(os.environ.get(\"SPARK_HOME\"))  # /Users/lydialim/pyspark-eda-demo/.venv/lib/python3.10/site-packages/pyspark\n",
    "\n",
    "\n",
    "# initialize spark session\n",
    "spark = SparkSession.builder.getOrCreate()"
   ]
  },
  {
   "cell_type": "code",
   "execution_count": 60,
   "metadata": {},
   "outputs": [],
   "source": [
    "# import libs\n",
    "from pyspark.sql.functions import (\n",
    "    aes_encrypt,\n",
    "    base64,\n",
    "    concat,\n",
    "    col,\n",
    "    length,\n",
    "    lit,\n",
    "    when,\n",
    "    from_unixtime,\n",
    "    from_utc_timestamp,\n",
    "    to_timestamp,\n",
    "    date_format,\n",
    "    regexp_replace,\n",
    "    split,\n",
    "    expr,\n",
    "    element_at,\n",
    "    year\n",
    ")\n",
    "from pyspark.sql import DataFrame\n",
    "from sparkdq.checks import NullCheckConfig, TimestampBetweenCheckConfig\n",
    "from sparkdq.engine import BatchDQEngine\n",
    "from sparkdq.management import CheckSet\n",
    "from sparkdq.core import Severity\n"
   ]
  },
  {
   "cell_type": "code",
   "execution_count": 61,
   "metadata": {},
   "outputs": [],
   "source": [
    "# additional spark session configurations\n",
    "spark.conf.set(\"spark.sql.session.timeZone\", \"Asia/Singapore\")  # UTC+8"
   ]
  },
  {
   "cell_type": "code",
   "execution_count": 62,
   "metadata": {},
   "outputs": [
    {
     "name": "stdout",
     "output_type": "stream",
     "text": [
      "root\n",
      " |-- trans_date_trans_time: string (nullable = true)\n",
      " |-- cc_num: string (nullable = true)\n",
      " |-- merchant: string (nullable = true)\n",
      " |-- category: string (nullable = true)\n",
      " |-- amt: string (nullable = true)\n",
      " |-- person_name: string (nullable = true)\n",
      " |-- gender: string (nullable = true)\n",
      " |-- street: string (nullable = true)\n",
      " |-- city: string (nullable = true)\n",
      " |-- state: string (nullable = true)\n",
      " |-- zip: string (nullable = true)\n",
      " |-- lat: double (nullable = true)\n",
      " |-- long: double (nullable = true)\n",
      " |-- city_pop: integer (nullable = true)\n",
      " |-- job: string (nullable = true)\n",
      " |-- dob: date (nullable = true)\n",
      " |-- trans_num: string (nullable = true)\n",
      " |-- merch_lat: string (nullable = true)\n",
      " |-- merch_long: string (nullable = true)\n",
      " |-- is_fraud: string (nullable = true)\n",
      " |-- merch_zipcode: string (nullable = true)\n",
      " |-- merch_last_update_time: string (nullable = true)\n",
      " |-- merch_eff_time: string (nullable = true)\n",
      " |-- cc_bic: string (nullable = true)\n",
      "\n",
      "+---------------------+----------------+--------------------+-------------+------+--------------------+------+--------------------+--------------+-----+-----+-------+---------+--------+--------------------+----------+--------------------+------------------+-----------+--------+-------------+----------------------+----------------+-----------+\n",
      "|trans_date_trans_time|          cc_num|            merchant|     category|   amt|         person_name|gender|              street|          city|state|  zip|    lat|     long|city_pop|                 job|       dob|           trans_num|         merch_lat| merch_long|is_fraud|merch_zipcode|merch_last_update_time|  merch_eff_time|     cc_bic|\n",
      "+---------------------+----------------+--------------------+-------------+------+--------------------+------+--------------------+--------------+-----+-----+-------+---------+--------+--------------------+----------+--------------------+------------------+-----------+--------+-------------+----------------------+----------------+-----------+\n",
      "|  2019-01-01 00:00:18|2703186189652095|fraud_Rippin, Kub...|     misc_net|  4.97|Jennifer,Banks,eeeee|     F|      561 Perry Cove|Moravian Falls|   NC|28654|36.0788| -81.1781|    3495|Psychologist, cou...|1988-03-09|0b242abb623afc578...|         36.011293| -82.048315|       0|        28705|         1325376018666|1325376018798532|CITIUS33CHI|\n",
      "|  2019-01-01 00:00:44|    630423337322|fraud_Heller, Gut...|  grocery_pos|107.23|Stephanie,Gill,eeeee|     F|43039 Riley Green...|        Orient|   WA|99160|48.8878|-118.2105|     149|Special education...|1978-06-21|1f76529f857473494...|49.159046999999994|-118.186462|       0|         NULL|          132537604479|1325376044867960|   ADMDUS41|\n",
      "|  2019-01-01 00:00:51|  38859492057661|fraud_Lind-Buckridge|entertainment|220.11|      Edward@Sanchez|     M|594 White Dale Su...|    Malad City|   ID|83252|42.1808| -112.262|    4154|Nature conservati...|1962-01-19|a1a22d70485983eac...|         43.150704|-112.154481|       0|        83236|         1325376051286|1325376051506840|       Null|\n",
      "|  2019-01-01 00:01:16|3534093764340240|fraud_Kutch, Herm...|gas_transport|  45.0|     Jeremy/White, !|     M|9443 Cynthia Cour...|       Boulder|   MT|59632|46.2306|-112.1138|    1939|     Patent attorney|1967-01-12|6b849c168bdad6f86...|         47.034331|-112.561071|       0|         NULL|         1325376076365|1325376076794698|DEUTUS33TRF|\n",
      "|  2019-01-01 00:03:06| 375534208663984| fraud_Keeling-Crist|     misc_pos| 41.96|        Tyler@Garcia|     M|    408 Bradley Rest|      Doe Hill|   VA|24433|38.4207| -79.4629|      99|Dance movement ps...|1986-03-28|a41d7549acf907893...|         38.674999| -78.632459|       0|        22844|          132537618681|1325376186746376|   APBCUS61|\n",
      "+---------------------+----------------+--------------------+-------------+------+--------------------+------+--------------------+--------------+-----+-----+-------+---------+--------+--------------------+----------+--------------------+------------------+-----------+--------+-------------+----------------------+----------------+-----------+\n",
      "only showing top 5 rows\n",
      "\n"
     ]
    }
   ],
   "source": [
    "df = spark.read.parquet(\"data_fixtures/cc_sample_transaction.parquet\")\n",
    "df.printSchema()\n",
    "df.show(5)"
   ]
  },
  {
   "cell_type": "code",
   "execution_count": 63,
   "metadata": {},
   "outputs": [],
   "source": [
    "# define some functions that will help us clean the data\n",
    "def to_utc8_hm(c):\n",
    "    \"\"\"\n",
    "    Accepts Column c whose values may be:\n",
    "      • purely numeric, ≥15 digits → µs since epoch\n",
    "      • purely numeric, 12–14 digits → ms since epoch\n",
    "      • anything else → literal 'yyyy-MM-dd HH:mm:ss'\n",
    "    Returns a Column of timestamps in UTC+8\n",
    "    \"\"\"\n",
    "    c_str = c.cast(\"string\")\n",
    "    is_digits = c_str.rlike(\"^[0-9]+$\")\n",
    "\n",
    "    # 1) parse into a UTC Timestamp\n",
    "    ts_utc = (\n",
    "        when(\n",
    "            is_digits & (length(c_str) >= 15), from_unixtime(c_str.cast(\"double\") / 1e6)\n",
    "        )  # µs → seconds\n",
    "        .when(\n",
    "            is_digits & (length(c_str).between(12, 14)),\n",
    "            from_unixtime(c_str.cast(\"double\") / 1e3),\n",
    "        )  # ms → seconds\n",
    "        .otherwise(to_timestamp(c_str, \"yyyy-MM-dd HH:mm:ss\"))  # literal parse\n",
    "    )\n",
    "\n",
    "    # 2) shift to UTC+8\n",
    "    ts_utc8 = from_utc_timestamp(ts_utc, \"GMT+8\")\n",
    "\n",
    "    return ts_utc8\n",
    "\n",
    "def format_timestamp(ts_col):\n",
    "    \"\"\"\n",
    "    Accepts a timestamp string and returns a formatted timestamp string.\n",
    "    Output format: 'yyyy-MM-dd HH:mm:ss.SSSSSS +08:00'\n",
    "    \"\"\"\n",
    "    return date_format(ts_col, \"yyyy-MM-dd HH:mm:ss.SSSSSS +08:00\")\n",
    "\n",
    "def clean_and_split_names(\n",
    "    df: DataFrame,\n",
    "    input_col: str = \"person_name\",\n",
    "    first_col: str = \"first\",\n",
    "    last_col: str = \"last\",\n",
    ") -> DataFrame:\n",
    "    \"\"\"\n",
    "    Given a DataFrame with `input_col` containing raw names,\n",
    "    returns a new DataFrame with `first_col` and `last_col`.\n",
    "\n",
    "    Assumptions:\n",
    "    - Names are separated by a space\n",
    "    - Names are always two words\n",
    "    - Names are always in the format \"First Last\"\n",
    "    - Names are always alphabetic\n",
    "    - Names are never empty\n",
    "    \"\"\"\n",
    "    return (\n",
    "        df\n",
    "        # 1) Turn anything that isn't A–Z/a–z into a space\n",
    "        .withColumn(\"_cleaned\", regexp_replace(col(input_col), \"[^A-Za-z]\", \" \"))\n",
    "        # 2) Split into tokens on spaces\n",
    "        .withColumn(\"_tokens\", split(col(\"_cleaned\"), \" \"))\n",
    "        # 3) Drop empty tokens\n",
    "        .withColumn(\"_tokens\", expr(\"filter(_tokens, x -> x <> '')\"))\n",
    "        # 4) Extract first & second tokens\n",
    "        .withColumn(first_col, element_at(col(\"_tokens\"), 1)).withColumn(\n",
    "            last_col, element_at(col(\"_tokens\"), 2)\n",
    "        )\n",
    "        # 5) Drop the helpers\n",
    "        .drop(\"_cleaned\", \"_tokens\")\n",
    "    )"
   ]
  },
  {
   "cell_type": "markdown",
   "metadata": {},
   "source": [
    "First, we deal with the timestamp columns by standardizing the format."
   ]
  },
  {
   "cell_type": "code",
   "execution_count": 64,
   "metadata": {},
   "outputs": [
    {
     "name": "stdout",
     "output_type": "stream",
     "text": [
      "+---------------------+----------------+----------------------------------+-------------+------+--------------------+------+----------------------------+--------------+-----+-----+-------+---------+--------+---------------------------------+----------+--------------------------------+------------------+-----------+--------+-------------+----------------------+-------------------+-----------+\n",
      "|trans_date_trans_time|cc_num          |merchant                          |category     |amt   |person_name         |gender|street                      |city          |state|zip  |lat    |long     |city_pop|job                              |dob       |trans_num                       |merch_lat         |merch_long |is_fraud|merch_zipcode|merch_last_update_time|merch_eff_time     |cc_bic     |\n",
      "+---------------------+----------------+----------------------------------+-------------+------+--------------------+------+----------------------------+--------------+-----+-----+-------+---------+--------+---------------------------------+----------+--------------------------------+------------------+-----------+--------+-------------+----------------------+-------------------+-----------+\n",
      "|2019-01-01 08:00:18  |2703186189652095|fraud_Rippin, Kub and Mann        |misc_net     |4.97  |Jennifer,Banks,eeeee|F     |561 Perry Cove              |Moravian Falls|NC   |28654|36.0788|-81.1781 |3495    |Psychologist, counselling        |1988-03-09|0b242abb623afc578575680df30655b9|36.011293         |-82.048315 |0       |28705        |2012-01-01 16:00:18   |2012-01-01 16:00:18|CITIUS33CHI|\n",
      "|2019-01-01 08:00:44  |630423337322    |fraud_Heller, Gutmann and Zieme   |grocery_pos  |107.23|Stephanie,Gill,eeeee|F     |43039 Riley Greens Suite 393|Orient        |WA   |99160|48.8878|-118.2105|149     |Special educational needs teacher|1978-06-21|1f76529f8574734946361c461b024d99|49.159046999999994|-118.186462|0       |NULL         |1974-03-15 15:30:04   |2012-01-01 16:00:44|ADMDUS41   |\n",
      "|2019-01-01 08:00:51  |38859492057661  |fraud_Lind-Buckridge              |entertainment|220.11|Edward@Sanchez      |M     |594 White Dale Suite 530    |Malad City    |ID   |83252|42.1808|-112.262 |4154    |Nature conservation officer      |1962-01-19|a1a22d70485983eac12b5b88dad1cf95|43.150704         |-112.154481|0       |83236        |2012-01-01 16:00:51   |2012-01-01 16:00:51|Null       |\n",
      "|2019-01-01 08:01:16  |3534093764340240|fraud_Kutch, Hermiston and Farrell|gas_transport|45.0  |Jeremy/White, !     |M     |9443 Cynthia Court Apt. 038 |Boulder       |MT   |59632|46.2306|-112.1138|1939    |Patent attorney                  |1967-01-12|6b849c168bdad6f867558c3793159a81|47.034331         |-112.561071|0       |NULL         |2012-01-01 16:01:16   |2012-01-01 16:01:16|DEUTUS33TRF|\n",
      "|2019-01-01 08:03:06  |375534208663984 |fraud_Keeling-Crist               |misc_pos     |41.96 |Tyler@Garcia        |M     |408 Bradley Rest            |Doe Hill      |VA   |24433|38.4207|-79.4629 |99      |Dance movement psychotherapist   |1986-03-28|a41d7549acf90789359a9aa5346dcb46|38.674999         |-78.632459 |0       |22844        |1974-03-15 15:30:18   |2012-01-01 16:03:06|APBCUS61   |\n",
      "+---------------------+----------------+----------------------------------+-------------+------+--------------------+------+----------------------------+--------------+-----+-----+-------+---------+--------+---------------------------------+----------+--------------------------------+------------------+-----------+--------+-------------+----------------------+-------------------+-----------+\n",
      "only showing top 5 rows\n",
      "\n"
     ]
    }
   ],
   "source": [
    "timestamp_cols = [\"merch_eff_time\", \"merch_last_update_time\", \"trans_date_trans_time\"]\n",
    "\n",
    "# overwrites the existing timestamp columns inplace\n",
    "for ts in timestamp_cols:\n",
    "    df = df.withColumn(ts, to_utc8_hm(col(ts)))\n",
    "\n",
    "df.show(5, truncate=False)"
   ]
  },
  {
   "cell_type": "markdown",
   "metadata": {},
   "source": [
    "# Identifying Dirty Data\n",
    "- Everything starts from common sense and business logic. \n",
    "- Discoverability and documentation is also important. Without anyone actually using the data for anything, it's usually hard to detect systemic issues with the data.\n",
    "\n",
    "Data Validation\n",
    "- Catch dirty data in the records. In reality you wouldn't actually remove those records, but add more ways to handle them as you get alerted to their existence from schema/rule violations. \n",
    "- A downside of quietly handling things is that over time this might build up unneeded complexity in the pipelines. It shouldn't all fall on engineering to solve, though. I am a proponent of letting things burn once in awhile if that's what it takes to bring positive changes. \n",
    "\n",
    "- For python, schema validation through Pydantic is a good start. If using databricks, can consider this new framework: https://databrickslabs.github.io/dqx/docs/motivation/\n",
    "- For this assignment I had the opportunity to try a very new library called `sparkdq`. Seems promising.\n",
    "\n",
    "Data Observability\n",
    "- Catch unusual trends. Records that conform to the validation rules might not mean that all is well - what if the null values in a nullable column are suddenly greater % than usual? For paid solutions with a nice UI, tools like Monte Carlo and Data Dog can help.\n",
    "- Data engineering can champion the use of data observability tools to catch unusual trends, and empower domain teams to take ownership of their data.\n",
    "\n",
    "Integration Patterns\n",
    "We can either:\n",
    "1. fail-fast (throw error and fail the entire pipeline) or \n",
    "2. quarantine the records (log the error / dirty data for later analysis, while the rest of the pipeline continues).\n",
    "\n",
    "In this case, we will quarantine the records. (I am making the assumption that the pipeline is run in a batch fashion, and the dirty data is not critical to the pipeline or the downstream processes.)\n"
   ]
  },
  {
   "cell_type": "code",
   "execution_count": 65,
   "metadata": {},
   "outputs": [
    {
     "name": "stderr",
     "output_type": "stream",
     "text": [
      "                                                                                \r"
     ]
    },
    {
     "name": "stdout",
     "output_type": "stream",
     "text": [
      "Validation Summary (2025-05-27 00:24:52)\n",
      "Total records:   1,296,675\n",
      "Passed records:  1,051,939\n",
      "Failed records:  244,736\n",
      "Warnings:        0\n",
      "Pass rate:       81.00%\n"
     ]
    },
    {
     "name": "stderr",
     "output_type": "stream",
     "text": [
      "                                                                                \r"
     ]
    }
   ],
   "source": [
    "check_set = CheckSet()\n",
    "null_check = NullCheckConfig(check_id=\"my-null-check\", columns=[\"cc_num\", 'trans_date_trans_time', 'trans_num'])\n",
    "# example of timestamp check\n",
    "timestamp_check = TimestampBetweenCheckConfig(\n",
    "    check_id=\"allowed_record_date_range\",\n",
    "    columns=[\"trans_date_trans_time\", \"merch_eff_time\", \"merch_last_update_time\"],\n",
    "    min_value=\"2000-01-01 00:00:00\",\n",
    "    max_value=\"2025-12-31 23:59:59\",\n",
    "    inclusive=(True, True),\n",
    "    severity=Severity.CRITICAL\n",
    ")\n",
    "\n",
    "check_set.add_check(null_check)\n",
    "check_set.add_check(timestamp_check)\n",
    "\n",
    "result = BatchDQEngine(check_set).run_batch(df)\n",
    "print(result.summary())\n",
    "\n",
    "# save the failed records to a quarantine folder\n",
    "result.fail_df().write.format(\"json\").save(\"quarantine\", mode=\"overwrite\")\n"
   ]
  },
  {
   "cell_type": "code",
   "execution_count": 66,
   "metadata": {},
   "outputs": [],
   "source": [
    "# remove the failed records from the original dataframe\n",
    "# df = df.subtract(result.fail_df())\n",
    "# df.count()\n"
   ]
  },
  {
   "cell_type": "code",
   "execution_count": 67,
   "metadata": {},
   "outputs": [
    {
     "name": "stdout",
     "output_type": "stream",
     "text": [
      "+---------------------------------+----------------+----------------------------------+-------------+------+--------------------+------+----------------------------+--------------+-----+-----+-------+---------+--------+---------------------------------+----------+--------------------------------+------------------+-----------+--------+-------------+---------------------------------+---------------------------------+-----------+\n",
      "|trans_date_trans_time            |cc_num          |merchant                          |category     |amt   |person_name         |gender|street                      |city          |state|zip  |lat    |long     |city_pop|job                              |dob       |trans_num                       |merch_lat         |merch_long |is_fraud|merch_zipcode|merch_last_update_time           |merch_eff_time                   |cc_bic     |\n",
      "+---------------------------------+----------------+----------------------------------+-------------+------+--------------------+------+----------------------------+--------------+-----+-----+-------+---------+--------+---------------------------------+----------+--------------------------------+------------------+-----------+--------+-------------+---------------------------------+---------------------------------+-----------+\n",
      "|2019-01-01 08:00:18.000000 +08:00|2703186189652095|fraud_Rippin, Kub and Mann        |misc_net     |4.97  |Jennifer,Banks,eeeee|F     |561 Perry Cove              |Moravian Falls|NC   |28654|36.0788|-81.1781 |3495    |Psychologist, counselling        |1988-03-09|0b242abb623afc578575680df30655b9|36.011293         |-82.048315 |0       |28705        |2012-01-01 16:00:18.000000 +08:00|2012-01-01 16:00:18.000000 +08:00|CITIUS33CHI|\n",
      "|2019-01-01 08:00:44.000000 +08:00|630423337322    |fraud_Heller, Gutmann and Zieme   |grocery_pos  |107.23|Stephanie,Gill,eeeee|F     |43039 Riley Greens Suite 393|Orient        |WA   |99160|48.8878|-118.2105|149     |Special educational needs teacher|1978-06-21|1f76529f8574734946361c461b024d99|49.159046999999994|-118.186462|0       |NULL         |1974-03-15 15:30:04.000000 +08:00|2012-01-01 16:00:44.000000 +08:00|ADMDUS41   |\n",
      "|2019-01-01 08:00:51.000000 +08:00|38859492057661  |fraud_Lind-Buckridge              |entertainment|220.11|Edward@Sanchez      |M     |594 White Dale Suite 530    |Malad City    |ID   |83252|42.1808|-112.262 |4154    |Nature conservation officer      |1962-01-19|a1a22d70485983eac12b5b88dad1cf95|43.150704         |-112.154481|0       |83236        |2012-01-01 16:00:51.000000 +08:00|2012-01-01 16:00:51.000000 +08:00|Null       |\n",
      "|2019-01-01 08:01:16.000000 +08:00|3534093764340240|fraud_Kutch, Hermiston and Farrell|gas_transport|45.0  |Jeremy/White, !     |M     |9443 Cynthia Court Apt. 038 |Boulder       |MT   |59632|46.2306|-112.1138|1939    |Patent attorney                  |1967-01-12|6b849c168bdad6f867558c3793159a81|47.034331         |-112.561071|0       |NULL         |2012-01-01 16:01:16.000000 +08:00|2012-01-01 16:01:16.000000 +08:00|DEUTUS33TRF|\n",
      "|2019-01-01 08:03:06.000000 +08:00|375534208663984 |fraud_Keeling-Crist               |misc_pos     |41.96 |Tyler@Garcia        |M     |408 Bradley Rest            |Doe Hill      |VA   |24433|38.4207|-79.4629 |99      |Dance movement psychotherapist   |1986-03-28|a41d7549acf90789359a9aa5346dcb46|38.674999         |-78.632459 |0       |22844        |1974-03-15 15:30:18.000000 +08:00|2012-01-01 16:03:06.000000 +08:00|APBCUS61   |\n",
      "+---------------------------------+----------------+----------------------------------+-------------+------+--------------------+------+----------------------------+--------------+-----+-----+-------+---------+--------+---------------------------------+----------+--------------------------------+------------------+-----------+--------+-------------+---------------------------------+---------------------------------+-----------+\n",
      "only showing top 5 rows\n",
      "\n"
     ]
    }
   ],
   "source": [
    "# format the timestamp columns\n",
    "\n",
    "for ts in timestamp_cols:\n",
    "    df = df.withColumn(ts, format_timestamp(col(ts)))\n",
    "\n",
    "df.show(5, truncate=False)\n"
   ]
  },
  {
   "cell_type": "markdown",
   "metadata": {},
   "source": [
    "Then, we split the person_name columns into first and last name."
   ]
  },
  {
   "cell_type": "code",
   "execution_count": 68,
   "metadata": {},
   "outputs": [
    {
     "name": "stdout",
     "output_type": "stream",
     "text": [
      "+---------------------------------+----------------+----------------------------------+-------------+------+------+----------------------------+--------------+-----+-----+-------+---------+--------+---------------------------------+----------+--------------------------------+------------------+-----------+--------+-------------+---------------------------------+---------------------------------+-----------+---------+-------+\n",
      "|trans_date_trans_time            |cc_num          |merchant                          |category     |amt   |gender|street                      |city          |state|zip  |lat    |long     |city_pop|job                              |dob       |trans_num                       |merch_lat         |merch_long |is_fraud|merch_zipcode|merch_last_update_time           |merch_eff_time                   |cc_bic     |first    |last   |\n",
      "+---------------------------------+----------------+----------------------------------+-------------+------+------+----------------------------+--------------+-----+-----+-------+---------+--------+---------------------------------+----------+--------------------------------+------------------+-----------+--------+-------------+---------------------------------+---------------------------------+-----------+---------+-------+\n",
      "|2019-01-01 08:00:18.000000 +08:00|2703186189652095|fraud_Rippin, Kub and Mann        |misc_net     |4.97  |F     |561 Perry Cove              |Moravian Falls|NC   |28654|36.0788|-81.1781 |3495    |Psychologist, counselling        |1988-03-09|0b242abb623afc578575680df30655b9|36.011293         |-82.048315 |0       |28705        |2012-01-01 16:00:18.000000 +08:00|2012-01-01 16:00:18.000000 +08:00|CITIUS33CHI|Jennifer |Banks  |\n",
      "|2019-01-01 08:00:44.000000 +08:00|630423337322    |fraud_Heller, Gutmann and Zieme   |grocery_pos  |107.23|F     |43039 Riley Greens Suite 393|Orient        |WA   |99160|48.8878|-118.2105|149     |Special educational needs teacher|1978-06-21|1f76529f8574734946361c461b024d99|49.159046999999994|-118.186462|0       |NULL         |1974-03-15 15:30:04.000000 +08:00|2012-01-01 16:00:44.000000 +08:00|ADMDUS41   |Stephanie|Gill   |\n",
      "|2019-01-01 08:00:51.000000 +08:00|38859492057661  |fraud_Lind-Buckridge              |entertainment|220.11|M     |594 White Dale Suite 530    |Malad City    |ID   |83252|42.1808|-112.262 |4154    |Nature conservation officer      |1962-01-19|a1a22d70485983eac12b5b88dad1cf95|43.150704         |-112.154481|0       |83236        |2012-01-01 16:00:51.000000 +08:00|2012-01-01 16:00:51.000000 +08:00|Null       |Edward   |Sanchez|\n",
      "|2019-01-01 08:01:16.000000 +08:00|3534093764340240|fraud_Kutch, Hermiston and Farrell|gas_transport|45.0  |M     |9443 Cynthia Court Apt. 038 |Boulder       |MT   |59632|46.2306|-112.1138|1939    |Patent attorney                  |1967-01-12|6b849c168bdad6f867558c3793159a81|47.034331         |-112.561071|0       |NULL         |2012-01-01 16:01:16.000000 +08:00|2012-01-01 16:01:16.000000 +08:00|DEUTUS33TRF|Jeremy   |White  |\n",
      "|2019-01-01 08:03:06.000000 +08:00|375534208663984 |fraud_Keeling-Crist               |misc_pos     |41.96 |M     |408 Bradley Rest            |Doe Hill      |VA   |24433|38.4207|-79.4629 |99      |Dance movement psychotherapist   |1986-03-28|a41d7549acf90789359a9aa5346dcb46|38.674999         |-78.632459 |0       |22844        |1974-03-15 15:30:18.000000 +08:00|2012-01-01 16:03:06.000000 +08:00|APBCUS61   |Tyler    |Garcia |\n",
      "+---------------------------------+----------------+----------------------------------+-------------+------+------+----------------------------+--------------+-----+-----+-------+---------+--------+---------------------------------+----------+--------------------------------+------------------+-----------+--------+-------------+---------------------------------+---------------------------------+-----------+---------+-------+\n",
      "only showing top 5 rows\n",
      "\n"
     ]
    }
   ],
   "source": [
    "df = clean_and_split_names(df, \"person_name\", \"first\", \"last\")\n",
    "df = df.drop(\"person_name\")\n",
    "df.show(5, truncate=False)"
   ]
  },
  {
   "cell_type": "markdown",
   "metadata": {},
   "source": [
    "# PII Sanitization\n",
    "Sanitizing PII is a tricky topic and depends on the downstream use cases and regulations surrounding the data.\n",
    "\n",
    "# Considerations for data storage\n",
    "- For the purposes of this assignment, we have the CC owner information (gender, job, dob, etc) and the Merchant details stored alongside the transaction data. \n",
    "- But ideally these details should be normalized and stored in a separate dimension table, with a foreign key to the transaction table. Then access to the database containing the details should be RBAC-based and controlled through policies.\n",
    "- When storing the PII such as first and last name, we should store the hashed or encrypted version of the name. More on that below.\n",
    "- The key to the encryption should be tightly controlled and exposed only to certain roles.\n",
    "\n",
    "\n",
    "# Considerations for masking and hashing\n",
    "If we choose to entirely mask or hash the PII, then downstream analysis might be hamstrung. \n",
    "\n",
    "For example, if we mask the credit card number, we would not be able to use it for any analysis / joining to BIN number lists to identify the issuing bank / card type. For example an e-commerce site may want to use the first 6 to 8 digits of the credit card number to identify the issuing bank / card type to offer rewards to the cardholder, upon eligible transactions.\n",
    "\n",
    "Ref: https://www.chargeflow.io/blog/bank-identification-numbers-bin-the-backbone-of-payment-processing\n",
    "\n",
    "Options for masking and hashing:\n",
    "- Partial anonymization: J*** D**, easy to implement but weak and identity thieves can still infer an identity using a few more personal details.\n",
    "- Full masking: XXXX XXX, strong and simple to implement, but cannot be used for any analysis. \n",
    "- Hashing (unsalted): Pros: Same input ⇒ same hash ⇒ you can still group or join records by name. Cons: Can be reverse-engineered / vulnerable to rainbow table (pre-computed key-value pairs) attacks if leaked.\n",
    "- Hashing (salted): Prevents rainbow table attacks since knowing the hash alone is not enough to reverse-engineer the original input. \n",
    "\n",
    "# Considerations for encryption\n",
    "More flexible and secure than hashing, but requires more resources to encrypt and decrypt data. \n",
    "- This preserves the ability to use the PII for unique-user analysis because the same input value will always produce the same output. \n",
    "- In addition, teams that really need to access the raw PII data can be granted access to the encryption key.\n"
   ]
  },
  {
   "cell_type": "code",
   "execution_count": 69,
   "metadata": {},
   "outputs": [],
   "source": [
    "def mask_credit_card(df: DataFrame, input_col: str, output_col: str) -> DataFrame:\n",
    "    \"\"\"\n",
    "    Always masks at least one digit in the middle, even if the total length is <= 12.\n",
    "    \"\"\"\n",
    "    df = df.withColumn(input_col, col(input_col).cast(\"string\"))\n",
    "    masked = expr(\n",
    "        f\"\"\"CASE\n",
    "             WHEN length({input_col}) > 12 THEN\n",
    "               concat(\n",
    "                 substr({input_col}, 1, 8),\n",
    "                 repeat('*', length({input_col}) - 12),\n",
    "                 substr({input_col}, -4, 4)\n",
    "               )\n",
    "             ELSE\n",
    "               concat(\n",
    "                 substr({input_col}, 1, 8),\n",
    "                 '*',\n",
    "                 substr({input_col}, 9, length({input_col})-8)\n",
    "               )\n",
    "           END\"\"\"\n",
    "    )\n",
    "    return df.withColumn(output_col, masked)\n",
    "\n",
    "def encrypt_column(\n",
    "    df: DataFrame,\n",
    "    input_col: str,\n",
    "    output_col: str,\n",
    "    key: bytes\n",
    ") -> DataFrame:\n",
    "    \"\"\"\n",
    "    Encrypt `input_col` → `output_col` using Spark's native AES_ENCRYPT (ECB mode).\n",
    "\n",
    "    :param df:         input DataFrame\n",
    "    :param input_col:  name of plaintext (string) column\n",
    "    :param output_col: name of resulting ciphertext (binary) column\n",
    "    :param key:        raw AES key (must be 16, 24, or 32 bytes)\n",
    "    \"\"\"\n",
    "    # wrap the key as a literal binary\n",
    "    key_lit = lit(key)\n",
    "    return df.withColumn(output_col, base64(aes_encrypt(input=col(input_col), key=key_lit)))"
   ]
  },
  {
   "cell_type": "code",
   "execution_count": 70,
   "metadata": {},
   "outputs": [
    {
     "name": "stdout",
     "output_type": "stream",
     "text": [
      "+---------------------------------+----------------+----------------------------------+-------------+------+------+----------------------------+--------------+-----+-----+-------+---------+--------+---------------------------------+----+--------------------------------+------------------+-----------+--------+-------------+---------------------------------+---------------------------------+-----------+---------+-------+\n",
      "|trans_date_trans_time            |cc_num          |merchant                          |category     |amt   |gender|street                      |city          |state|zip  |lat    |long     |city_pop|job                              |dob |trans_num                       |merch_lat         |merch_long |is_fraud|merch_zipcode|merch_last_update_time           |merch_eff_time                   |cc_bic     |first    |last   |\n",
      "+---------------------------------+----------------+----------------------------------+-------------+------+------+----------------------------+--------------+-----+-----+-------+---------+--------+---------------------------------+----+--------------------------------+------------------+-----------+--------+-------------+---------------------------------+---------------------------------+-----------+---------+-------+\n",
      "|2019-01-01 08:00:18.000000 +08:00|2703186189652095|fraud_Rippin, Kub and Mann        |misc_net     |4.97  |F     |561 Perry Cove              |Moravian Falls|NC   |28654|36.0788|-81.1781 |3495    |Psychologist, counselling        |1988|0b242abb623afc578575680df30655b9|36.011293         |-82.048315 |0       |28705        |2012-01-01 16:00:18.000000 +08:00|2012-01-01 16:00:18.000000 +08:00|CITIUS33CHI|Jennifer |Banks  |\n",
      "|2019-01-01 08:00:44.000000 +08:00|630423337322    |fraud_Heller, Gutmann and Zieme   |grocery_pos  |107.23|F     |43039 Riley Greens Suite 393|Orient        |WA   |99160|48.8878|-118.2105|149     |Special educational needs teacher|1978|1f76529f8574734946361c461b024d99|49.159046999999994|-118.186462|0       |NULL         |1974-03-15 15:30:04.000000 +08:00|2012-01-01 16:00:44.000000 +08:00|ADMDUS41   |Stephanie|Gill   |\n",
      "|2019-01-01 08:00:51.000000 +08:00|38859492057661  |fraud_Lind-Buckridge              |entertainment|220.11|M     |594 White Dale Suite 530    |Malad City    |ID   |83252|42.1808|-112.262 |4154    |Nature conservation officer      |1962|a1a22d70485983eac12b5b88dad1cf95|43.150704         |-112.154481|0       |83236        |2012-01-01 16:00:51.000000 +08:00|2012-01-01 16:00:51.000000 +08:00|Null       |Edward   |Sanchez|\n",
      "|2019-01-01 08:01:16.000000 +08:00|3534093764340240|fraud_Kutch, Hermiston and Farrell|gas_transport|45.0  |M     |9443 Cynthia Court Apt. 038 |Boulder       |MT   |59632|46.2306|-112.1138|1939    |Patent attorney                  |1967|6b849c168bdad6f867558c3793159a81|47.034331         |-112.561071|0       |NULL         |2012-01-01 16:01:16.000000 +08:00|2012-01-01 16:01:16.000000 +08:00|DEUTUS33TRF|Jeremy   |White  |\n",
      "|2019-01-01 08:03:06.000000 +08:00|375534208663984 |fraud_Keeling-Crist               |misc_pos     |41.96 |M     |408 Bradley Rest            |Doe Hill      |VA   |24433|38.4207|-79.4629 |99      |Dance movement psychotherapist   |1986|a41d7549acf90789359a9aa5346dcb46|38.674999         |-78.632459 |0       |22844        |1974-03-15 15:30:18.000000 +08:00|2012-01-01 16:03:06.000000 +08:00|APBCUS61   |Tyler    |Garcia |\n",
      "+---------------------------------+----------------+----------------------------------+-------------+------+------+----------------------------+--------------+-----+-----+-------+---------+--------+---------------------------------+----+--------------------------------+------------------+-----------+--------+-------------+---------------------------------+---------------------------------+-----------+---------+-------+\n",
      "only showing top 5 rows\n",
      "\n"
     ]
    }
   ],
   "source": [
    "# truncate dob to year\n",
    "df = df.withColumn(\"dob\", year(col(\"dob\")))\n",
    "df.show(5, truncate=False)"
   ]
  },
  {
   "cell_type": "code",
   "execution_count": 71,
   "metadata": {},
   "outputs": [
    {
     "name": "stdout",
     "output_type": "stream",
     "text": [
      "+---------------------------------+----------------+----------------------------------+-------------+------+------+----------------------------+--------------+-----+-----+-------+---------+--------+---------------------------------+----+--------------------------------+------------------+-----------+--------+-------------+---------------------------------+---------------------------------+-----------+---------+-------+\n",
      "|trans_date_trans_time            |cc_num          |merchant                          |category     |amt   |gender|street                      |city          |state|zip  |lat    |long     |city_pop|job                              |dob |trans_num                       |merch_lat         |merch_long |is_fraud|merch_zipcode|merch_last_update_time           |merch_eff_time                   |cc_bic     |first    |last   |\n",
      "+---------------------------------+----------------+----------------------------------+-------------+------+------+----------------------------+--------------+-----+-----+-------+---------+--------+---------------------------------+----+--------------------------------+------------------+-----------+--------+-------------+---------------------------------+---------------------------------+-----------+---------+-------+\n",
      "|2019-01-01 08:00:18.000000 +08:00|27031861****2095|fraud_Rippin, Kub and Mann        |misc_net     |4.97  |F     |561 Perry Cove              |Moravian Falls|NC   |28654|36.0788|-81.1781 |3495    |Psychologist, counselling        |1988|0b242abb623afc578575680df30655b9|36.011293         |-82.048315 |0       |28705        |2012-01-01 16:00:18.000000 +08:00|2012-01-01 16:00:18.000000 +08:00|CITIUS33CHI|Jennifer |Banks  |\n",
      "|2019-01-01 08:00:44.000000 +08:00|63042333*7322   |fraud_Heller, Gutmann and Zieme   |grocery_pos  |107.23|F     |43039 Riley Greens Suite 393|Orient        |WA   |99160|48.8878|-118.2105|149     |Special educational needs teacher|1978|1f76529f8574734946361c461b024d99|49.159046999999994|-118.186462|0       |NULL         |1974-03-15 15:30:04.000000 +08:00|2012-01-01 16:00:44.000000 +08:00|ADMDUS41   |Stephanie|Gill   |\n",
      "|2019-01-01 08:00:51.000000 +08:00|38859492**7661  |fraud_Lind-Buckridge              |entertainment|220.11|M     |594 White Dale Suite 530    |Malad City    |ID   |83252|42.1808|-112.262 |4154    |Nature conservation officer      |1962|a1a22d70485983eac12b5b88dad1cf95|43.150704         |-112.154481|0       |83236        |2012-01-01 16:00:51.000000 +08:00|2012-01-01 16:00:51.000000 +08:00|Null       |Edward   |Sanchez|\n",
      "|2019-01-01 08:01:16.000000 +08:00|35340937****0240|fraud_Kutch, Hermiston and Farrell|gas_transport|45.0  |M     |9443 Cynthia Court Apt. 038 |Boulder       |MT   |59632|46.2306|-112.1138|1939    |Patent attorney                  |1967|6b849c168bdad6f867558c3793159a81|47.034331         |-112.561071|0       |NULL         |2012-01-01 16:01:16.000000 +08:00|2012-01-01 16:01:16.000000 +08:00|DEUTUS33TRF|Jeremy   |White  |\n",
      "|2019-01-01 08:03:06.000000 +08:00|37553420***3984 |fraud_Keeling-Crist               |misc_pos     |41.96 |M     |408 Bradley Rest            |Doe Hill      |VA   |24433|38.4207|-79.4629 |99      |Dance movement psychotherapist   |1986|a41d7549acf90789359a9aa5346dcb46|38.674999         |-78.632459 |0       |22844        |1974-03-15 15:30:18.000000 +08:00|2012-01-01 16:03:06.000000 +08:00|APBCUS61   |Tyler    |Garcia |\n",
      "+---------------------------------+----------------+----------------------------------+-------------+------+------+----------------------------+--------------+-----+-----+-------+---------+--------+---------------------------------+----+--------------------------------+------------------+-----------+--------+-------------+---------------------------------+---------------------------------+-----------+---------+-------+\n",
      "only showing top 5 rows\n",
      "\n"
     ]
    }
   ],
   "source": [
    "df = mask_credit_card(df, \"cc_num\", \"cc_num\")\n",
    "df.show(5, truncate=False)"
   ]
  },
  {
   "cell_type": "code",
   "execution_count": 72,
   "metadata": {},
   "outputs": [],
   "source": [
    "# IRL this should be retrieved from a secure key vault or KMS\n",
    "aes_key = b\"0123456789ABCDEF\""
   ]
  },
  {
   "cell_type": "code",
   "execution_count": 73,
   "metadata": {},
   "outputs": [
    {
     "name": "stdout",
     "output_type": "stream",
     "text": [
      "+---------------------------------+----------------+----------------------------------+-------------+------+------+----------------------------+--------------+-----+-----+-------+---------+--------+---------------------------------+----+--------------------------------+------------------+-----------+--------+-------------+---------------------------------+---------------------------------+-----------+----------------------------------------------------+------------------------------------------------+\n",
      "|trans_date_trans_time            |cc_num          |merchant                          |category     |amt   |gender|street                      |city          |state|zip  |lat    |long     |city_pop|job                              |dob |trans_num                       |merch_lat         |merch_long |is_fraud|merch_zipcode|merch_last_update_time           |merch_eff_time                   |cc_bic     |first                                               |last                                            |\n",
      "+---------------------------------+----------------+----------------------------------+-------------+------+------+----------------------------+--------------+-----+-----+-------+---------+--------+---------------------------------+----+--------------------------------+------------------+-----------+--------+-------------+---------------------------------+---------------------------------+-----------+----------------------------------------------------+------------------------------------------------+\n",
      "|2019-01-01 08:00:18.000000 +08:00|27031861****2095|fraud_Rippin, Kub and Mann        |misc_net     |4.97  |F     |561 Perry Cove              |Moravian Falls|NC   |28654|36.0788|-81.1781 |3495    |Psychologist, counselling        |1988|0b242abb623afc578575680df30655b9|36.011293         |-82.048315 |0       |28705        |2012-01-01 16:00:18.000000 +08:00|2012-01-01 16:00:18.000000 +08:00|CITIUS33CHI|Lb1+2uswOQrcA8R4rnOo/cGik2JMYTWLiVbkZZl3ZKMMbIAJ    |bn2n1VcM9rAxgq2/HgP84WxNq6E2YcG6Et6OHxkn2Lt2    |\n",
      "|2019-01-01 08:00:44.000000 +08:00|63042333*7322   |fraud_Heller, Gutmann and Zieme   |grocery_pos  |107.23|F     |43039 Riley Greens Suite 393|Orient        |WA   |99160|48.8878|-118.2105|149     |Special educational needs teacher|1978|1f76529f8574734946361c461b024d99|49.159046999999994|-118.186462|0       |NULL         |1974-03-15 15:30:04.000000 +08:00|2012-01-01 16:00:44.000000 +08:00|ADMDUS41   |dkFAo4Y0dFN3bNIuCAS9gFrfdvsIatZ6eBYTveL+fyj4jbDY1A==|wNHI9Wz28y9934ikDfu9D19R7Qvr7PHKA/LSRJ61HD0=    |\n",
      "|2019-01-01 08:00:51.000000 +08:00|38859492**7661  |fraud_Lind-Buckridge              |entertainment|220.11|M     |594 White Dale Suite 530    |Malad City    |ID   |83252|42.1808|-112.262 |4154    |Nature conservation officer      |1962|a1a22d70485983eac12b5b88dad1cf95|43.150704         |-112.154481|0       |83236        |2012-01-01 16:00:51.000000 +08:00|2012-01-01 16:00:51.000000 +08:00|Null       |HlhR7fpnycWV9POnDTbJMHp+RnQzMvV3Q5EBv673zbBVTw==    |ge2up+AFApH/4iOgXcOj3XcdpJyDyfCdqyTIKCVjJRbsYq4=|\n",
      "|2019-01-01 08:01:16.000000 +08:00|35340937****0240|fraud_Kutch, Hermiston and Farrell|gas_transport|45.0  |M     |9443 Cynthia Court Apt. 038 |Boulder       |MT   |59632|46.2306|-112.1138|1939    |Patent attorney                  |1967|6b849c168bdad6f867558c3793159a81|47.034331         |-112.561071|0       |NULL         |2012-01-01 16:01:16.000000 +08:00|2012-01-01 16:01:16.000000 +08:00|DEUTUS33TRF|HlND3AkkMZ5/3m6AR9JHuGiXbc48UR0c4+kXsxd8eVdwmw==    |ZUY80TWXThZrNWMcOts9Kd1EC8PE1nyu+FM4lOQk8X8r    |\n",
      "|2019-01-01 08:03:06.000000 +08:00|37553420***3984 |fraud_Keeling-Crist               |misc_pos     |41.96 |M     |408 Bradley Rest            |Doe Hill      |VA   |24433|38.4207|-79.4629 |99      |Dance movement psychotherapist   |1986|a41d7549acf90789359a9aa5346dcb46|38.674999         |-78.632459 |0       |22844        |1974-03-15 15:30:18.000000 +08:00|2012-01-01 16:03:06.000000 +08:00|APBCUS61   |nVTf9WiaiZJceNHROcLZFED9v81s0nx3fJ5kbw15uA4B        |GmYQcuAQxM/cEJIzokLxbcRkTi1teB3g+7btQVl4UIITvA==|\n",
      "+---------------------------------+----------------+----------------------------------+-------------+------+------+----------------------------+--------------+-----+-----+-------+---------+--------+---------------------------------+----+--------------------------------+------------------+-----------+--------+-------------+---------------------------------+---------------------------------+-----------+----------------------------------------------------+------------------------------------------------+\n",
      "only showing top 5 rows\n",
      "\n"
     ]
    }
   ],
   "source": [
    "df = encrypt_column(df, input_col=\"first\", output_col=\"first\", key=aes_key)\n",
    "df = encrypt_column(df, input_col=\"last\", output_col=\"last\", key=aes_key)\n",
    "df.show(5, truncate=False)"
   ]
  },
  {
   "cell_type": "code",
   "execution_count": 74,
   "metadata": {},
   "outputs": [
    {
     "name": "stdout",
     "output_type": "stream",
     "text": [
      "+---------------------------------+----------------+----------------------------------+-------------+------+------+----------------------------+--------------+-----+-----+-------+---------+--------+---------------------------------+----+--------------------------------+------------------+-----------+--------+-------------+---------------------------------+---------------------------------+-----------+----------------------------------------------------+------------------------------------------------+\n",
      "|trans_date_trans_time            |cc_num          |merchant                          |category     |amt   |gender|street                      |city          |state|zip  |lat    |long     |city_pop|job                              |dob |trans_num                       |merch_lat         |merch_long |is_fraud|merch_zipcode|merch_last_update_time           |merch_eff_time                   |cc_bic     |first                                               |last                                            |\n",
      "+---------------------------------+----------------+----------------------------------+-------------+------+------+----------------------------+--------------+-----+-----+-------+---------+--------+---------------------------------+----+--------------------------------+------------------+-----------+--------+-------------+---------------------------------+---------------------------------+-----------+----------------------------------------------------+------------------------------------------------+\n",
      "|2019-01-01 08:00:18.000000 +08:00|27031861****2095|fraud_Rippin, Kub and Mann        |misc_net     |4.97  |F     |XXX Perry Cove              |Moravian Falls|NC   |28654|36.0788|-81.1781 |3495    |Psychologist, counselling        |1988|0b242abb623afc578575680df30655b9|36.011293         |-82.048315 |0       |28705        |2012-01-01 16:00:18.000000 +08:00|2012-01-01 16:00:18.000000 +08:00|CITIUS33CHI|h5KODwg4LdJTIwA69UluqyTEz07XazgbzBsdKiKI+WYd96Xj    |hXvaJtfR63TfXmJolMcDqpWfFAwPCzsLbhBbH9IYFbTg    |\n",
      "|2019-01-01 08:00:44.000000 +08:00|63042333*7322   |fraud_Heller, Gutmann and Zieme   |grocery_pos  |107.23|F     |XXXXX Riley Greens Suite XXX|Orient        |WA   |99160|48.8878|-118.2105|149     |Special educational needs teacher|1978|1f76529f8574734946361c461b024d99|49.159046999999994|-118.186462|0       |NULL         |1974-03-15 15:30:04.000000 +08:00|2012-01-01 16:00:44.000000 +08:00|ADMDUS41   |1LB6wCeDclTDlEIC0KD/FvFTBwAVNCGnrUf94RsY2IMnaAM1JQ==|tha+epRNM1DfZS2yj4e/QvOMVx3naBrpgKjQe++Y90U=    |\n",
      "|2019-01-01 08:00:51.000000 +08:00|38859492**7661  |fraud_Lind-Buckridge              |entertainment|220.11|M     |XXX White Dale Suite XXX    |Malad City    |ID   |83252|42.1808|-112.262 |4154    |Nature conservation officer      |1962|a1a22d70485983eac12b5b88dad1cf95|43.150704         |-112.154481|0       |83236        |2012-01-01 16:00:51.000000 +08:00|2012-01-01 16:00:51.000000 +08:00|Null       |LNQ/K05egnwCCfcpspe9gZ4p2q73qCKSg6LHes79oyCarg==    |+/bFYdrBzRip2IHI0T++050n/cXdm7tXLRT7acze0HUdO/s=|\n",
      "|2019-01-01 08:01:16.000000 +08:00|35340937****0240|fraud_Kutch, Hermiston and Farrell|gas_transport|45.0  |M     |XXXX Cynthia Court Apt. XXX |Boulder       |MT   |59632|46.2306|-112.1138|1939    |Patent attorney                  |1967|6b849c168bdad6f867558c3793159a81|47.034331         |-112.561071|0       |NULL         |2012-01-01 16:01:16.000000 +08:00|2012-01-01 16:01:16.000000 +08:00|DEUTUS33TRF|FA4yBKO5bQUmueEzUB6jWNHFJoJMfOWtvBFIp6oRoHMvKw==    |ImRGF+VEZIQ1+JSW/71/vBMLz1Ccvckv+WEUKm1qY+Xe    |\n",
      "|2019-01-01 08:03:06.000000 +08:00|37553420***3984 |fraud_Keeling-Crist               |misc_pos     |41.96 |M     |XXX Bradley Rest            |Doe Hill      |VA   |24433|38.4207|-79.4629 |99      |Dance movement psychotherapist   |1986|a41d7549acf90789359a9aa5346dcb46|38.674999         |-78.632459 |0       |22844        |1974-03-15 15:30:18.000000 +08:00|2012-01-01 16:03:06.000000 +08:00|APBCUS61   |USu1U+BUA0wassuW/SUloq60CamJsSgzf9powgyxEWvT        |E9jbOLCUIU91nTjhM2/whU6x1Gek7hXcdjyC9t/hjWj0lg==|\n",
      "+---------------------------------+----------------+----------------------------------+-------------+------+------+----------------------------+--------------+-----+-----+-------+---------+--------+---------------------------------+----+--------------------------------+------------------+-----------+--------+-------------+---------------------------------+---------------------------------+-----------+----------------------------------------------------+------------------------------------------------+\n",
      "only showing top 5 rows\n",
      "\n"
     ]
    }
   ],
   "source": [
    "# replace digits in street address with X to obscure the address\n",
    "df = df.withColumn(\n",
    "    \"street\",\n",
    "    regexp_replace(col(\"street\"), r\"\\d\", \"X\")\n",
    ")\n",
    "df.show(5, truncate=False)"
   ]
  },
  {
   "cell_type": "code",
   "execution_count": 75,
   "metadata": {},
   "outputs": [],
   "source": [
    "# Convert the spark df into a pandas df for visualization\n",
    "# df_pandas = df.toPandas()"
   ]
  },
  {
   "cell_type": "code",
   "execution_count": 76,
   "metadata": {},
   "outputs": [
    {
     "name": "stdout",
     "output_type": "stream",
     "text": [
      "ADMDUS41\n",
      "ACEEUS31\n",
      "DEUTUS33TRF\n",
      "NA\n",
      "CITIUS33CHI\n",
      "AIABUS31\n",
      "\n",
      "Null\n",
      "APBCUS61\n"
     ]
    }
   ],
   "source": [
    "# try to see if the BIC can be used\n",
    "unique_values = df.select(\"cc_bic\").distinct().collect()\n",
    "for row in unique_values:\n",
    "    print(row.cc_bic)"
   ]
  },
  {
   "cell_type": "code",
   "execution_count": null,
   "metadata": {},
   "outputs": [],
   "source": []
  }
 ],
 "metadata": {
  "kernelspec": {
   "display_name": ".venv",
   "language": "python",
   "name": "python3"
  },
  "language_info": {
   "codemirror_mode": {
    "name": "ipython",
    "version": 3
   },
   "file_extension": ".py",
   "mimetype": "text/x-python",
   "name": "python",
   "nbconvert_exporter": "python",
   "pygments_lexer": "ipython3",
   "version": "3.10.17"
  }
 },
 "nbformat": 4,
 "nbformat_minor": 2
}
