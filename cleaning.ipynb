{
 "cells": [
  {
   "cell_type": "code",
   "execution_count": 68,
   "metadata": {},
   "outputs": [
    {
     "name": "stdout",
     "output_type": "stream",
     "text": [
      "/opt/homebrew/opt/openjdk@17/libexec/openjdk.jdk/Contents/Home\n",
      "/Users/lydialim/pyspark-eda-demo/.venv/lib/python3.10/site-packages/pyspark\n"
     ]
    }
   ],
   "source": [
    "import os\n",
    "\n",
    "# ensure that these variables are set in your env, either through your shell config file or venv activation script\n",
    "print(os.environ.get('JAVA_HOME')) #\"/opt/homebrew/opt/openjdk@11/libexec/openjdk.jdk/Contents/Home\"\n",
    "print(os.environ.get('SPARK_HOME')) # /Users/lydialim/pyspark-eda-demo/.venv/lib/python3.10/site-packages/pyspark"
   ]
  },
  {
   "cell_type": "code",
   "execution_count": 69,
   "metadata": {},
   "outputs": [],
   "source": [
    "from pyspark.sql import SparkSession\n",
    "\n",
    "# initialize spark session\n",
    "spark = SparkSession.builder.getOrCreate()"
   ]
  },
  {
   "cell_type": "code",
   "execution_count": 55,
   "metadata": {},
   "outputs": [],
   "source": [
    "# import libs\n",
    "from pyspark.sql.functions import (\n",
    "    concat,\n",
    "    col,\n",
    "    length,\n",
    "    lit,\n",
    "    when,\n",
    "    from_unixtime,\n",
    "    from_utc_timestamp,\n",
    "    to_timestamp,\n",
    "    date_format,\n",
    ")\n",
    "\n"
   ]
  },
  {
   "cell_type": "code",
   "execution_count": 70,
   "metadata": {},
   "outputs": [],
   "source": [
    "# additional spark session configurations\n",
    "spark.conf.set(\"spark.sql.session.timeZone\", \"Asia/Singapore\")  # UTC+8\n"
   ]
  },
  {
   "cell_type": "code",
   "execution_count": 71,
   "metadata": {},
   "outputs": [
    {
     "name": "stdout",
     "output_type": "stream",
     "text": [
      "root\n",
      " |-- trans_date_trans_time: string (nullable = true)\n",
      " |-- cc_num: string (nullable = true)\n",
      " |-- merchant: string (nullable = true)\n",
      " |-- category: string (nullable = true)\n",
      " |-- amt: string (nullable = true)\n",
      " |-- person_name: string (nullable = true)\n",
      " |-- gender: string (nullable = true)\n",
      " |-- street: string (nullable = true)\n",
      " |-- city: string (nullable = true)\n",
      " |-- state: string (nullable = true)\n",
      " |-- zip: string (nullable = true)\n",
      " |-- lat: double (nullable = true)\n",
      " |-- long: double (nullable = true)\n",
      " |-- city_pop: integer (nullable = true)\n",
      " |-- job: string (nullable = true)\n",
      " |-- dob: date (nullable = true)\n",
      " |-- trans_num: string (nullable = true)\n",
      " |-- merch_lat: string (nullable = true)\n",
      " |-- merch_long: string (nullable = true)\n",
      " |-- is_fraud: string (nullable = true)\n",
      " |-- merch_zipcode: string (nullable = true)\n",
      " |-- merch_last_update_time: string (nullable = true)\n",
      " |-- merch_eff_time: string (nullable = true)\n",
      " |-- cc_bic: string (nullable = true)\n",
      "\n",
      "+---------------------+----------------+--------------------+-------------+------+--------------------+------+--------------------+--------------+-----+-----+-------+---------+--------+--------------------+----------+--------------------+------------------+-----------+--------+-------------+----------------------+----------------+-----------+\n",
      "|trans_date_trans_time|          cc_num|            merchant|     category|   amt|         person_name|gender|              street|          city|state|  zip|    lat|     long|city_pop|                 job|       dob|           trans_num|         merch_lat| merch_long|is_fraud|merch_zipcode|merch_last_update_time|  merch_eff_time|     cc_bic|\n",
      "+---------------------+----------------+--------------------+-------------+------+--------------------+------+--------------------+--------------+-----+-----+-------+---------+--------+--------------------+----------+--------------------+------------------+-----------+--------+-------------+----------------------+----------------+-----------+\n",
      "|  2019-01-01 00:00:18|2703186189652095|fraud_Rippin, Kub...|     misc_net|  4.97|Jennifer,Banks,eeeee|     F|      561 Perry Cove|Moravian Falls|   NC|28654|36.0788| -81.1781|    3495|Psychologist, cou...|1988-03-09|0b242abb623afc578...|         36.011293| -82.048315|       0|        28705|         1325376018666|1325376018798532|CITIUS33CHI|\n",
      "|  2019-01-01 00:00:44|    630423337322|fraud_Heller, Gut...|  grocery_pos|107.23|Stephanie,Gill,eeeee|     F|43039 Riley Green...|        Orient|   WA|99160|48.8878|-118.2105|     149|Special education...|1978-06-21|1f76529f857473494...|49.159046999999994|-118.186462|       0|         NULL|          132537604479|1325376044867960|   ADMDUS41|\n",
      "|  2019-01-01 00:00:51|  38859492057661|fraud_Lind-Buckridge|entertainment|220.11|      Edward@Sanchez|     M|594 White Dale Su...|    Malad City|   ID|83252|42.1808| -112.262|    4154|Nature conservati...|1962-01-19|a1a22d70485983eac...|         43.150704|-112.154481|       0|        83236|         1325376051286|1325376051506840|       Null|\n",
      "|  2019-01-01 00:01:16|3534093764340240|fraud_Kutch, Herm...|gas_transport|  45.0|     Jeremy/White, !|     M|9443 Cynthia Cour...|       Boulder|   MT|59632|46.2306|-112.1138|    1939|     Patent attorney|1967-01-12|6b849c168bdad6f86...|         47.034331|-112.561071|       0|         NULL|         1325376076365|1325376076794698|DEUTUS33TRF|\n",
      "|  2019-01-01 00:03:06| 375534208663984| fraud_Keeling-Crist|     misc_pos| 41.96|        Tyler@Garcia|     M|    408 Bradley Rest|      Doe Hill|   VA|24433|38.4207| -79.4629|      99|Dance movement ps...|1986-03-28|a41d7549acf907893...|         38.674999| -78.632459|       0|        22844|          132537618681|1325376186746376|   APBCUS61|\n",
      "+---------------------+----------------+--------------------+-------------+------+--------------------+------+--------------------+--------------+-----+-----+-------+---------+--------+--------------------+----------+--------------------+------------------+-----------+--------+-------------+----------------------+----------------+-----------+\n",
      "only showing top 5 rows\n"
     ]
    }
   ],
   "source": [
    "df = spark.read.parquet(\"data_fixtures/cc_sample_transaction.parquet\")\n",
    "df.printSchema()\n",
    "df.show(5)"
   ]
  },
  {
   "cell_type": "code",
   "execution_count": 72,
   "metadata": {},
   "outputs": [],
   "source": [
    "def to_utc8_hm(c):\n",
    "    \"\"\"\n",
    "    Accepts Column c whose values may be:\n",
    "      • purely numeric, ≥15 digits → µs since epoch\n",
    "      • purely numeric, 12–14 digits → ms since epoch\n",
    "      • anything else → literal 'yyyy-MM-dd HH:mm:ss'\n",
    "    Returns a Column of strings\n",
    "      'yyyy-MM-dd HH:mm:ss.SSSSSS +08:00'\n",
    "    \"\"\"\n",
    "    c_str = c.cast(\"string\")\n",
    "    is_digits = c_str.rlike(\"^[0-9]+$\")\n",
    "\n",
    "    # 1) parse into a UTC Timestamp\n",
    "    ts_utc = (\n",
    "        when(is_digits & (length(c_str) >= 15),\n",
    "             from_unixtime(c_str.cast(\"double\") / 1e6))      # µs → seconds\n",
    "        .when(is_digits & (length(c_str).between(12, 14)),\n",
    "             from_unixtime(c_str.cast(\"double\") / 1e3))      # ms → seconds\n",
    "        .otherwise(\n",
    "             to_timestamp(c_str, \"yyyy-MM-dd HH:mm:ss\")      # literal parse\n",
    "        )\n",
    "    )\n",
    "\n",
    "    # 2) shift to UTC+8\n",
    "    ts_utc8 = from_utc_timestamp(ts_utc, \"GMT+8\")\n",
    "\n",
    "    # 3) format with 6-digit fraction and append \"+08:00\"\n",
    "    return concat(\n",
    "        date_format(ts_utc8, \"yyyy-MM-dd HH:mm:ss.SSSSSS\"),\n",
    "        lit(\" +08:00\")\n",
    "    )\n",
    "\n",
    "\n"
   ]
  },
  {
   "cell_type": "code",
   "execution_count": 73,
   "metadata": {},
   "outputs": [
    {
     "name": "stdout",
     "output_type": "stream",
     "text": [
      "+---------------------------------+-------------------+----------------------------------------+-------------+------+-------------------------+------+------------------------------+------------------------+-----+-----+-------+------------------+--------+---------------------------------------------+----------+--------------------------------+------------------+------------------+--------+-------------+---------------------------------+---------------------------------+-----------+\n",
      "|trans_date_trans_time            |cc_num             |merchant                                |category     |amt   |person_name              |gender|street                        |city                    |state|zip  |lat    |long              |city_pop|job                                          |dob       |trans_num                       |merch_lat         |merch_long        |is_fraud|merch_zipcode|merch_last_update_time           |merch_eff_time                   |cc_bic     |\n",
      "+---------------------------------+-------------------+----------------------------------------+-------------+------+-------------------------+------+------------------------------+------------------------+-----+-----+-------+------------------+--------+---------------------------------------------+----------+--------------------------------+------------------+------------------+--------+-------------+---------------------------------+---------------------------------+-----------+\n",
      "|2019-01-01 08:00:18.000000 +08:00|2703186189652095   |fraud_Rippin, Kub and Mann              |misc_net     |4.97  |Jennifer,Banks,eeeee     |F     |561 Perry Cove                |Moravian Falls          |NC   |28654|36.0788|-81.1781          |3495    |Psychologist, counselling                    |1988-03-09|0b242abb623afc578575680df30655b9|36.011293         |-82.048315        |0       |28705        |2012-01-01 16:00:18.000000 +08:00|2012-01-01 16:00:18.000000 +08:00|CITIUS33CHI|\n",
      "|2019-01-01 08:00:44.000000 +08:00|630423337322       |fraud_Heller, Gutmann and Zieme         |grocery_pos  |107.23|Stephanie,Gill,eeeee     |F     |43039 Riley Greens Suite 393  |Orient                  |WA   |99160|48.8878|-118.2105         |149     |Special educational needs teacher            |1978-06-21|1f76529f8574734946361c461b024d99|49.159046999999994|-118.186462       |0       |NULL         |1974-03-15 15:30:04.000000 +08:00|2012-01-01 16:00:44.000000 +08:00|ADMDUS41   |\n",
      "|2019-01-01 08:00:51.000000 +08:00|38859492057661     |fraud_Lind-Buckridge                    |entertainment|220.11|Edward@Sanchez           |M     |594 White Dale Suite 530      |Malad City              |ID   |83252|42.1808|-112.262          |4154    |Nature conservation officer                  |1962-01-19|a1a22d70485983eac12b5b88dad1cf95|43.150704         |-112.154481       |0       |83236        |2012-01-01 16:00:51.000000 +08:00|2012-01-01 16:00:51.000000 +08:00|Null       |\n",
      "|2019-01-01 08:01:16.000000 +08:00|3534093764340240   |fraud_Kutch, Hermiston and Farrell      |gas_transport|45.0  |Jeremy/White, !          |M     |9443 Cynthia Court Apt. 038   |Boulder                 |MT   |59632|46.2306|-112.1138         |1939    |Patent attorney                              |1967-01-12|6b849c168bdad6f867558c3793159a81|47.034331         |-112.561071       |0       |NULL         |2012-01-01 16:01:16.000000 +08:00|2012-01-01 16:01:16.000000 +08:00|DEUTUS33TRF|\n",
      "|2019-01-01 08:03:06.000000 +08:00|375534208663984    |fraud_Keeling-Crist                     |misc_pos     |41.96 |Tyler@Garcia             |M     |408 Bradley Rest              |Doe Hill                |VA   |24433|38.4207|-79.4629          |99      |Dance movement psychotherapist               |1986-03-28|a41d7549acf90789359a9aa5346dcb46|38.674999         |-78.632459        |0       |22844        |1974-03-15 15:30:18.000000 +08:00|2012-01-01 16:03:06.000000 +08:00|APBCUS61   |\n",
      "|2019-01-01 08:04:08.000000 +08:00|4767265376804500   |fraud_Stroman, Hudson and Erdman        |gas_transport|94.63 |Jennifer,Conner,eeeee    |F     |4655 David Island             |Dublin                  |PA   |18917|40.375 |-75.2045          |2158    |Transport planner                            |1961-06-19|189a841a0a8ba03058526bcfe566aab5|40.653382         |-76.15266700000001|0       |17972        |2012-01-01 16:04:08.000000 +08:00|2012-01-01 16:04:08.000000 +08:00|APBCUS61   |\n",
      "|2019-01-01 08:04:42.000000 +08:00|30074693890476     |fraud_Rowe-Vandervort                   |grocery_net  |44.54 |Kelsey, , Richards NOOOO |F     |889 Sarah Station Suite 624   |Holcomb                 |KS   |67851|37.9931|-100.9893         |2691    |Arboriculturist                              |1993-08-16|83ec1cc84142af6e2acf10c44949e720|37.162704999999995|-100.15337        |0       |NULL         |2012-01-01 16:04:42.000000 +08:00|2012-01-01 16:04:42.000000 +08:00|APBCUS61   |\n",
      "|2019-01-01 08:05:08.000000 +08:00|6011360759745864   |fraud_Corwin-Collins                    |gas_transport|71.65 |Steven, Williams         |M     |231 Flores Pass Suite 720     |Edinburg                |VA   |22824|38.8432|-78.6003          |6018    |Designer, multimedia                         |1947-08-21|6d294ed2cc447d2c71c7171a3d54967c|38.948089         |-78.540296        |0       |22644        |2012-01-01 16:05:08.000000 +08:00|2012-01-01 16:05:08.000000 +08:00|NA         |\n",
      "|2019-01-01 08:05:18.000000 +08:00|4922710831011201   |fraud_Herzog Ltd                        |misc_pos     |4.27  |Heather, , Chase NOOOO   |F     |6888 Hicks Stream Suite 954   |Manor                   |PA   |15665|40.3359|-79.6607          |1472    |Public affairs consultant                    |1941-03-07|fc28024ce480f8ef21a32d64c93a29f5|40.351813         |-79.958146        |0       |15236        |2012-01-01 16:05:18.000000 +08:00|2012-01-01 16:05:18.000000 +08:00|ACEEUS31   |\n",
      "|2019-01-01 08:06:01.000000 +08:00|2720830304681674   |fraud_Schoen, Kuphal and Nitzsche       |grocery_pos  |198.39|Melissa@Aguilar          |F     |21326 Taylor Squares Suite 708|Clarksville             |TN   |37040|36.522 |-87.34899999999999|151785  |Pathologist                                  |1974-03-28|3b9014ea8fb80bd65de0b1463b00b00e|37.179198         |-87.485381        |0       |42442        |2012-01-01 16:06:01.000000 +08:00|2012-01-01 16:06:01.000000 +08:00|DEUTUS33TRF|\n",
      "|2019-01-01 08:06:23.000000 +08:00|4642894980163      |fraud_Rutherford-Mertz                  |grocery_pos  |24.74 |Eddie|Mendez!!!          |M     |1831 Faith View Suite 653     |Clarinda                |IA   |51632|40.7491|-95.038           |7297    |IT trainer                                   |1990-07-13|d71c95ab6b7356dd74389d41df429c87|40.275890999999994|-96.011548        |0       |68348        |2012-01-01 16:06:23.000000 +08:00|2012-01-01 16:06:23.000000 +08:00|           |\n",
      "|2019-01-01 08:06:53.000000 +08:00|377234009633447    |fraud_Kerluke-Abshire                   |shopping_net |7.77  |Theresa@Blackwell        |F     |43576 Kristina Islands        |Shenandoah Junction     |WV   |25442|39.3716|-77.8229          |1925    |Systems developer                            |1966-02-14|3c74776e558f1499a7824b556e474b1d|40.103866         |-78.624459        |0       |15554        |2012-01-01 16:06:53.000000 +08:00|2012-01-01 16:06:53.000000 +08:00|DEUTUS33TRF|\n",
      "|2019-01-01 08:06:56.000000 +08:00|180042946491150    |fraud_Lockman Ltd                       |grocery_pos  |71.22 |Charles|Robles!!!        |M     |3337 Lisa Divide              |Saint Petersburg        |FL   |33710|27.7898|-82.7243          |341043  |Engineer, land                               |1989-02-28|c1d9a7ddb1e34639fe82758de97f4abf|27.630593         |-82.308891        |0       |33598        |2012-01-01 16:06:56.000000 +08:00|2012-01-01 16:06:56.000000 +08:00|DEUTUS33TRF|\n",
      "|2019-01-01 08:07:27.000000 +08:00|5559857416065248   |fraud_Kiehn Inc                         |grocery_pos  |96.29 |Jack@Hill                |M     |5916 Susan Bridge Apt. 939    |Grenada                 |CA   |96038|41.6125|-122.5258         |589     |Systems analyst                              |1945-12-21|413636e759663f264aae1819a4d4f231|41.65752          |-122.230347       |0       |NULL         |2012-01-01 16:07:27.000000 +08:00|2012-01-01 16:07:27.000000 +08:00|ACEEUS31   |\n",
      "|2019-01-01 08:09:03.000000 +08:00|3514865930894695   |fraud_Beier-Hyatt                       |shopping_pos |7.77  |Christopher@Castaneda    |M     |1632 Cohen Drive Suite 639    |High Rolls Mountain Park|NM   |88325|32.9396|-105.8189         |899     |Naval architect                              |1967-08-30|8a6293af5ed278dea14448ded2685fea|32.863258         |-106.520205       |0       |NULL         |2012-01-01 16:09:03.000000 +08:00|1974-03-15 15:30:54.000000 +08:00|ACEEUS31   |\n",
      "|2019-01-01 08:09:20.000000 +08:00|6011999606625827   |fraud_Schmidt and Sons                  |shopping_net |3.26  |Ronald@Carson            |M     |870 Rocha Drive               |Harrington Park         |NJ   |7640 |40.9918|-73.98            |4664    |Radiographer, diagnostic                     |1965-06-30|baae0b096835c975857eea7e28dde3dc|41.831174         |-74.335559        |0       |12446        |2012-01-01 16:09:20.000000 +08:00|2012-01-01 16:09:20.000000 +08:00|CITIUS33CHI|\n",
      "|2019-01-01 08:10:49.000000 +08:00|6011860238257910   |fraud_Lebsack and Sons                  |misc_net     |327.0 |Lisa, Mendez             |F     |44259 Beth Station Suite 215  |Lahoma                  |OK   |73754|36.385 |-98.0727          |1078    |Programme researcher, broadcasting/film/video|1952-07-06|991c04803b4d4eeab30d6245a872e3d3|36.384091999999995|-99.048472        |0       |73852        |2012-01-01 16:10:49.000000 +08:00|1974-03-15 15:31:04.000000 +08:00|CITIUS33CHI|\n",
      "|2019-01-01 08:10:58.000000 +08:00|3565423334076143   |fraud_Mayert Group                      |shopping_pos |341.67|Nathan,Thomas,eeeee      |M     |4923 Campbell Pines Suite 717 |Carlisle                |IN   |47838|38.9763|-87.3667          |4081    |Energy engineer                              |1938-03-15|f12cf52be2175703db789a4644c32f25|38.674491         |-88.305767        |0       |62824        |2012-01-01 16:10:58.000000 +08:00|2012-01-01 16:10:58.000000 +08:00|           |\n",
      "|2019-01-01 08:11:14.000000 +08:00|2348245054386329   |fraud_Konopelski, Schneider and Hartmann|food_dining  |63.07 |Justin, Gay              |M     |268 Hayes Rue Suite 811       |Harborcreek             |PA   |16421|42.1767|-79.9416          |2518    |Event organiser                              |1946-02-02|8500f3d459047eac8443307b1e8296e5|41.430274         |-79.492553        |0       |16364        |2012-01-01 16:11:14.000000 +08:00|2012-01-01 16:11:14.000000 +08:00|APBCUS61   |\n",
      "|2019-01-01 08:12:34.000000 +08:00|4956828990005111019|fraud_Schultz, Simonis and Little       |grocery_pos  |44.71 |Kenneth, , Robinson NOOOO|M     |269 Sanchez Rapids            |Elizabeth               |NJ   |7208 |40.6747|-74.2239          |124967  |Operational researcher                       |1980-12-21|09eff9c806365e2a6be12c1bbab3d70e|40.079588         |-74.84808699999999|0       |08016        |2012-01-01 16:12:34.000000 +08:00|1974-03-15 15:31:15.000000 +08:00|           |\n",
      "+---------------------------------+-------------------+----------------------------------------+-------------+------+-------------------------+------+------------------------------+------------------------+-----+-----+-------+------------------+--------+---------------------------------------------+----------+--------------------------------+------------------+------------------+--------+-------------+---------------------------------+---------------------------------+-----------+\n",
      "only showing top 20 rows\n"
     ]
    }
   ],
   "source": [
    "\n",
    "timestamp_cols = [\"merch_eff_time\", \"merch_last_update_time\", \"trans_date_trans_time\"]\n",
    "\n",
    "# overwrites the existing timestamp columns inplace\n",
    "for ts in timestamp_cols:\n",
    "    df = df.withColumn(\n",
    "        ts,\n",
    "        to_utc8_hm(col(ts))\n",
    "    )\n",
    "\n",
    "df.show(truncate=False)"
   ]
  },
  {
   "cell_type": "code",
   "execution_count": null,
   "metadata": {},
   "outputs": [],
   "source": []
  },
  {
   "cell_type": "code",
   "execution_count": null,
   "metadata": {},
   "outputs": [],
   "source": []
  },
  {
   "cell_type": "code",
   "execution_count": null,
   "metadata": {},
   "outputs": [],
   "source": []
  },
  {
   "cell_type": "code",
   "execution_count": null,
   "metadata": {},
   "outputs": [
    {
     "name": "stdout",
     "output_type": "stream",
     "text": [
      "ADMDUS41\n",
      "ACEEUS31\n",
      "DEUTUS33TRF\n",
      "NA\n",
      "CITIUS33CHI\n",
      "AIABUS31\n",
      "\n",
      "Null\n",
      "APBCUS61\n"
     ]
    }
   ],
   "source": [
    "# try to see if the BIC can be used\n",
    "unique_values = df.select(\"cc_bic\").distinct().collect()\n",
    "for row in unique_values:\n",
    "    print(row.cc_bic)"
   ]
  },
  {
   "cell_type": "code",
   "execution_count": null,
   "metadata": {},
   "outputs": [
    {
     "name": "stdout",
     "output_type": "stream",
     "text": [
      "+-----------+\n",
      "|     cc_bic|\n",
      "+-----------+\n",
      "|   ADMDUS41|\n",
      "|   ACEEUS31|\n",
      "|DEUTUS33TRF|\n",
      "|         NA|\n",
      "|CITIUS33CHI|\n",
      "|   AIABUS31|\n",
      "|           |\n",
      "|       Null|\n",
      "|   APBCUS61|\n",
      "+-----------+\n",
      "\n"
     ]
    }
   ],
   "source": []
  },
  {
   "cell_type": "code",
   "execution_count": null,
   "metadata": {},
   "outputs": [],
   "source": []
  }
 ],
 "metadata": {
  "kernelspec": {
   "display_name": ".venv",
   "language": "python",
   "name": "python3"
  },
  "language_info": {
   "codemirror_mode": {
    "name": "ipython",
    "version": 3
   },
   "file_extension": ".py",
   "mimetype": "text/x-python",
   "name": "python",
   "nbconvert_exporter": "python",
   "pygments_lexer": "ipython3",
   "version": "3.10.17"
  }
 },
 "nbformat": 4,
 "nbformat_minor": 2
}
